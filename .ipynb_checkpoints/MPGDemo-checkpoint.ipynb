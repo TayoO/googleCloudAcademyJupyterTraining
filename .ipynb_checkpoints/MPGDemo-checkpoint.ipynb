{
 "cells": [
  {
   "cell_type": "markdown",
   "metadata": {},
   "source": [
    "# 1) Setup\n"
   ]
  },
  {
   "cell_type": "code",
   "execution_count": 1,
   "metadata": {},
   "outputs": [],
   "source": [
    "# Run the following command to instal via Docker Container\n",
    "# sudo docker run -p 8888:8888 -v $(pwd)/home/tayo/work/ jupyter/tensorflow-notebook"
   ]
  },
  {
   "cell_type": "markdown",
   "metadata": {},
   "source": [
    "# 2) Preparing the Data"
   ]
  },
  {
   "cell_type": "markdown",
   "metadata": {},
   "source": [
    "## Import"
   ]
  },
  {
   "cell_type": "code",
   "execution_count": 2,
   "metadata": {},
   "outputs": [],
   "source": [
    "import pandas as pd"
   ]
  },
  {
   "cell_type": "code",
   "execution_count": 3,
   "metadata": {},
   "outputs": [],
   "source": [
    "# Read in the CSV file\n",
    "original_data = pd.read_csv(\"car-data.csv\")"
   ]
  },
  {
   "cell_type": "code",
   "execution_count": 4,
   "metadata": {},
   "outputs": [
    {
     "data": {
      "text/html": [
       "<div>\n",
       "<style scoped>\n",
       "    .dataframe tbody tr th:only-of-type {\n",
       "        vertical-align: middle;\n",
       "    }\n",
       "\n",
       "    .dataframe tbody tr th {\n",
       "        vertical-align: top;\n",
       "    }\n",
       "\n",
       "    .dataframe thead th {\n",
       "        text-align: right;\n",
       "    }\n",
       "</style>\n",
       "<table border=\"1\" class=\"dataframe\">\n",
       "  <thead>\n",
       "    <tr style=\"text-align: right;\">\n",
       "      <th></th>\n",
       "      <th>mpg</th>\n",
       "      <th>cyl</th>\n",
       "      <th>disp</th>\n",
       "      <th>hp</th>\n",
       "      <th>wgt</th>\n",
       "      <th>acc</th>\n",
       "      <th>country</th>\n",
       "      <th>year</th>\n",
       "      <th>make</th>\n",
       "      <th>model</th>\n",
       "    </tr>\n",
       "  </thead>\n",
       "  <tbody>\n",
       "    <tr>\n",
       "      <th>0</th>\n",
       "      <td>18.0</td>\n",
       "      <td>8</td>\n",
       "      <td>307.0</td>\n",
       "      <td>130</td>\n",
       "      <td>3504</td>\n",
       "      <td>12.0</td>\n",
       "      <td>1</td>\n",
       "      <td>70</td>\n",
       "      <td>chevrolet</td>\n",
       "      <td>chevelle malibu</td>\n",
       "    </tr>\n",
       "    <tr>\n",
       "      <th>1</th>\n",
       "      <td>15.0</td>\n",
       "      <td>8</td>\n",
       "      <td>350.0</td>\n",
       "      <td>165</td>\n",
       "      <td>3693</td>\n",
       "      <td>11.5</td>\n",
       "      <td>1</td>\n",
       "      <td>70</td>\n",
       "      <td>buick</td>\n",
       "      <td>skylark 320</td>\n",
       "    </tr>\n",
       "    <tr>\n",
       "      <th>2</th>\n",
       "      <td>18.0</td>\n",
       "      <td>8</td>\n",
       "      <td>318.0</td>\n",
       "      <td>150</td>\n",
       "      <td>3436</td>\n",
       "      <td>11.0</td>\n",
       "      <td>1</td>\n",
       "      <td>70</td>\n",
       "      <td>plymouth</td>\n",
       "      <td>satellite</td>\n",
       "    </tr>\n",
       "    <tr>\n",
       "      <th>3</th>\n",
       "      <td>16.0</td>\n",
       "      <td>8</td>\n",
       "      <td>304.0</td>\n",
       "      <td>150</td>\n",
       "      <td>3433</td>\n",
       "      <td>12.0</td>\n",
       "      <td>1</td>\n",
       "      <td>70</td>\n",
       "      <td>amc</td>\n",
       "      <td>rebel sst</td>\n",
       "    </tr>\n",
       "    <tr>\n",
       "      <th>4</th>\n",
       "      <td>17.0</td>\n",
       "      <td>8</td>\n",
       "      <td>302.0</td>\n",
       "      <td>140</td>\n",
       "      <td>3449</td>\n",
       "      <td>10.5</td>\n",
       "      <td>1</td>\n",
       "      <td>70</td>\n",
       "      <td>ford</td>\n",
       "      <td>torino</td>\n",
       "    </tr>\n",
       "    <tr>\n",
       "      <th>...</th>\n",
       "      <td>...</td>\n",
       "      <td>...</td>\n",
       "      <td>...</td>\n",
       "      <td>...</td>\n",
       "      <td>...</td>\n",
       "      <td>...</td>\n",
       "      <td>...</td>\n",
       "      <td>...</td>\n",
       "      <td>...</td>\n",
       "      <td>...</td>\n",
       "    </tr>\n",
       "    <tr>\n",
       "      <th>393</th>\n",
       "      <td>27.0</td>\n",
       "      <td>4</td>\n",
       "      <td>140.0</td>\n",
       "      <td>86</td>\n",
       "      <td>2790</td>\n",
       "      <td>15.6</td>\n",
       "      <td>1</td>\n",
       "      <td>82</td>\n",
       "      <td>ford</td>\n",
       "      <td>mustang gl</td>\n",
       "    </tr>\n",
       "    <tr>\n",
       "      <th>394</th>\n",
       "      <td>44.0</td>\n",
       "      <td>4</td>\n",
       "      <td>97.0</td>\n",
       "      <td>52</td>\n",
       "      <td>2130</td>\n",
       "      <td>24.6</td>\n",
       "      <td>2</td>\n",
       "      <td>82</td>\n",
       "      <td>vw</td>\n",
       "      <td>pickup</td>\n",
       "    </tr>\n",
       "    <tr>\n",
       "      <th>395</th>\n",
       "      <td>32.0</td>\n",
       "      <td>4</td>\n",
       "      <td>135.0</td>\n",
       "      <td>84</td>\n",
       "      <td>2295</td>\n",
       "      <td>11.6</td>\n",
       "      <td>1</td>\n",
       "      <td>82</td>\n",
       "      <td>dodge</td>\n",
       "      <td>rampage</td>\n",
       "    </tr>\n",
       "    <tr>\n",
       "      <th>396</th>\n",
       "      <td>28.0</td>\n",
       "      <td>4</td>\n",
       "      <td>120.0</td>\n",
       "      <td>79</td>\n",
       "      <td>2625</td>\n",
       "      <td>18.6</td>\n",
       "      <td>1</td>\n",
       "      <td>82</td>\n",
       "      <td>ford</td>\n",
       "      <td>ranger</td>\n",
       "    </tr>\n",
       "    <tr>\n",
       "      <th>397</th>\n",
       "      <td>31.0</td>\n",
       "      <td>4</td>\n",
       "      <td>119.0</td>\n",
       "      <td>82</td>\n",
       "      <td>2720</td>\n",
       "      <td>19.4</td>\n",
       "      <td>1</td>\n",
       "      <td>82</td>\n",
       "      <td>chevy</td>\n",
       "      <td>s-10</td>\n",
       "    </tr>\n",
       "  </tbody>\n",
       "</table>\n",
       "<p>398 rows × 10 columns</p>\n",
       "</div>"
      ],
      "text/plain": [
       "      mpg  cyl   disp   hp   wgt   acc  country  year       make  \\\n",
       "0    18.0    8  307.0  130  3504  12.0        1    70  chevrolet   \n",
       "1    15.0    8  350.0  165  3693  11.5        1    70      buick   \n",
       "2    18.0    8  318.0  150  3436  11.0        1    70   plymouth   \n",
       "3    16.0    8  304.0  150  3433  12.0        1    70        amc   \n",
       "4    17.0    8  302.0  140  3449  10.5        1    70       ford   \n",
       "..    ...  ...    ...  ...   ...   ...      ...   ...        ...   \n",
       "393  27.0    4  140.0   86  2790  15.6        1    82       ford   \n",
       "394  44.0    4   97.0   52  2130  24.6        2    82         vw   \n",
       "395  32.0    4  135.0   84  2295  11.6        1    82      dodge   \n",
       "396  28.0    4  120.0   79  2625  18.6        1    82       ford   \n",
       "397  31.0    4  119.0   82  2720  19.4        1    82      chevy   \n",
       "\n",
       "               model  \n",
       "0    chevelle malibu  \n",
       "1        skylark 320  \n",
       "2          satellite  \n",
       "3          rebel sst  \n",
       "4             torino  \n",
       "..               ...  \n",
       "393       mustang gl  \n",
       "394           pickup  \n",
       "395          rampage  \n",
       "396           ranger  \n",
       "397             s-10  \n",
       "\n",
       "[398 rows x 10 columns]"
      ]
     },
     "execution_count": 4,
     "metadata": {},
     "output_type": "execute_result"
    }
   ],
   "source": [
    "# PReview the imported records\n",
    "original_data"
   ]
  },
  {
   "cell_type": "code",
   "execution_count": 5,
   "metadata": {},
   "outputs": [
    {
     "data": {
      "text/html": [
       "<div>\n",
       "<style scoped>\n",
       "    .dataframe tbody tr th:only-of-type {\n",
       "        vertical-align: middle;\n",
       "    }\n",
       "\n",
       "    .dataframe tbody tr th {\n",
       "        vertical-align: top;\n",
       "    }\n",
       "\n",
       "    .dataframe thead th {\n",
       "        text-align: right;\n",
       "    }\n",
       "</style>\n",
       "<table border=\"1\" class=\"dataframe\">\n",
       "  <thead>\n",
       "    <tr style=\"text-align: right;\">\n",
       "      <th></th>\n",
       "      <th>mpg</th>\n",
       "      <th>cyl</th>\n",
       "      <th>disp</th>\n",
       "      <th>hp</th>\n",
       "      <th>wgt</th>\n",
       "      <th>acc</th>\n",
       "      <th>country</th>\n",
       "      <th>year</th>\n",
       "      <th>make</th>\n",
       "      <th>model</th>\n",
       "    </tr>\n",
       "  </thead>\n",
       "  <tbody>\n",
       "    <tr>\n",
       "      <th>0</th>\n",
       "      <td>18.0</td>\n",
       "      <td>8</td>\n",
       "      <td>307.0</td>\n",
       "      <td>130</td>\n",
       "      <td>3504</td>\n",
       "      <td>12.0</td>\n",
       "      <td>1</td>\n",
       "      <td>70</td>\n",
       "      <td>chevrolet</td>\n",
       "      <td>chevelle malibu</td>\n",
       "    </tr>\n",
       "    <tr>\n",
       "      <th>1</th>\n",
       "      <td>15.0</td>\n",
       "      <td>8</td>\n",
       "      <td>350.0</td>\n",
       "      <td>165</td>\n",
       "      <td>3693</td>\n",
       "      <td>11.5</td>\n",
       "      <td>1</td>\n",
       "      <td>70</td>\n",
       "      <td>buick</td>\n",
       "      <td>skylark 320</td>\n",
       "    </tr>\n",
       "    <tr>\n",
       "      <th>2</th>\n",
       "      <td>18.0</td>\n",
       "      <td>8</td>\n",
       "      <td>318.0</td>\n",
       "      <td>150</td>\n",
       "      <td>3436</td>\n",
       "      <td>11.0</td>\n",
       "      <td>1</td>\n",
       "      <td>70</td>\n",
       "      <td>plymouth</td>\n",
       "      <td>satellite</td>\n",
       "    </tr>\n",
       "    <tr>\n",
       "      <th>3</th>\n",
       "      <td>16.0</td>\n",
       "      <td>8</td>\n",
       "      <td>304.0</td>\n",
       "      <td>150</td>\n",
       "      <td>3433</td>\n",
       "      <td>12.0</td>\n",
       "      <td>1</td>\n",
       "      <td>70</td>\n",
       "      <td>amc</td>\n",
       "      <td>rebel sst</td>\n",
       "    </tr>\n",
       "    <tr>\n",
       "      <th>4</th>\n",
       "      <td>17.0</td>\n",
       "      <td>8</td>\n",
       "      <td>302.0</td>\n",
       "      <td>140</td>\n",
       "      <td>3449</td>\n",
       "      <td>10.5</td>\n",
       "      <td>1</td>\n",
       "      <td>70</td>\n",
       "      <td>ford</td>\n",
       "      <td>torino</td>\n",
       "    </tr>\n",
       "  </tbody>\n",
       "</table>\n",
       "</div>"
      ],
      "text/plain": [
       "    mpg  cyl   disp   hp   wgt   acc  country  year       make  \\\n",
       "0  18.0    8  307.0  130  3504  12.0        1    70  chevrolet   \n",
       "1  15.0    8  350.0  165  3693  11.5        1    70      buick   \n",
       "2  18.0    8  318.0  150  3436  11.0        1    70   plymouth   \n",
       "3  16.0    8  304.0  150  3433  12.0        1    70        amc   \n",
       "4  17.0    8  302.0  140  3449  10.5        1    70       ford   \n",
       "\n",
       "             model  \n",
       "0  chevelle malibu  \n",
       "1      skylark 320  \n",
       "2        satellite  \n",
       "3        rebel sst  \n",
       "4           torino  "
      ]
     },
     "execution_count": 5,
     "metadata": {},
     "output_type": "execute_result"
    }
   ],
   "source": [
    "# View the first 3 records\n",
    "original_data.head()"
   ]
  },
  {
   "cell_type": "code",
   "execution_count": 6,
   "metadata": {},
   "outputs": [
    {
     "data": {
      "text/html": [
       "<div>\n",
       "<style scoped>\n",
       "    .dataframe tbody tr th:only-of-type {\n",
       "        vertical-align: middle;\n",
       "    }\n",
       "\n",
       "    .dataframe tbody tr th {\n",
       "        vertical-align: top;\n",
       "    }\n",
       "\n",
       "    .dataframe thead th {\n",
       "        text-align: right;\n",
       "    }\n",
       "</style>\n",
       "<table border=\"1\" class=\"dataframe\">\n",
       "  <thead>\n",
       "    <tr style=\"text-align: right;\">\n",
       "      <th></th>\n",
       "      <th>mpg</th>\n",
       "      <th>cyl</th>\n",
       "      <th>disp</th>\n",
       "      <th>hp</th>\n",
       "      <th>wgt</th>\n",
       "      <th>acc</th>\n",
       "      <th>country</th>\n",
       "      <th>year</th>\n",
       "      <th>make</th>\n",
       "      <th>model</th>\n",
       "    </tr>\n",
       "  </thead>\n",
       "  <tbody>\n",
       "    <tr>\n",
       "      <th>395</th>\n",
       "      <td>32.0</td>\n",
       "      <td>4</td>\n",
       "      <td>135.0</td>\n",
       "      <td>84</td>\n",
       "      <td>2295</td>\n",
       "      <td>11.6</td>\n",
       "      <td>1</td>\n",
       "      <td>82</td>\n",
       "      <td>dodge</td>\n",
       "      <td>rampage</td>\n",
       "    </tr>\n",
       "    <tr>\n",
       "      <th>396</th>\n",
       "      <td>28.0</td>\n",
       "      <td>4</td>\n",
       "      <td>120.0</td>\n",
       "      <td>79</td>\n",
       "      <td>2625</td>\n",
       "      <td>18.6</td>\n",
       "      <td>1</td>\n",
       "      <td>82</td>\n",
       "      <td>ford</td>\n",
       "      <td>ranger</td>\n",
       "    </tr>\n",
       "    <tr>\n",
       "      <th>397</th>\n",
       "      <td>31.0</td>\n",
       "      <td>4</td>\n",
       "      <td>119.0</td>\n",
       "      <td>82</td>\n",
       "      <td>2720</td>\n",
       "      <td>19.4</td>\n",
       "      <td>1</td>\n",
       "      <td>82</td>\n",
       "      <td>chevy</td>\n",
       "      <td>s-10</td>\n",
       "    </tr>\n",
       "  </tbody>\n",
       "</table>\n",
       "</div>"
      ],
      "text/plain": [
       "      mpg  cyl   disp  hp   wgt   acc  country  year   make    model\n",
       "395  32.0    4  135.0  84  2295  11.6        1    82  dodge  rampage\n",
       "396  28.0    4  120.0  79  2625  18.6        1    82   ford   ranger\n",
       "397  31.0    4  119.0  82  2720  19.4        1    82  chevy     s-10"
      ]
     },
     "execution_count": 6,
     "metadata": {},
     "output_type": "execute_result"
    }
   ],
   "source": [
    "original_data.tail(3)"
   ]
  },
  {
   "cell_type": "code",
   "execution_count": 7,
   "metadata": {},
   "outputs": [
    {
     "data": {
      "text/plain": [
       "mpg                 15.0\n",
       "cyl                    8\n",
       "disp               383.0\n",
       "hp                   170\n",
       "wgt                 3563\n",
       "acc                 10.0\n",
       "country                1\n",
       "year                  70\n",
       "make               dodge\n",
       "model      challenger se\n",
       "Name: 10, dtype: object"
      ]
     },
     "execution_count": 7,
     "metadata": {},
     "output_type": "execute_result"
    }
   ],
   "source": [
    "original_data.iloc[10]"
   ]
  },
  {
   "cell_type": "markdown",
   "metadata": {},
   "source": [
    "## Cleanup / Validation"
   ]
  },
  {
   "cell_type": "code",
   "execution_count": 8,
   "metadata": {},
   "outputs": [],
   "source": [
    "#Make a copy of my imported data"
   ]
  },
  {
   "cell_type": "code",
   "execution_count": 9,
   "metadata": {},
   "outputs": [],
   "source": [
    "data = original_data.copy()"
   ]
  },
  {
   "cell_type": "code",
   "execution_count": 10,
   "metadata": {},
   "outputs": [
    {
     "data": {
      "text/html": [
       "<div>\n",
       "<style scoped>\n",
       "    .dataframe tbody tr th:only-of-type {\n",
       "        vertical-align: middle;\n",
       "    }\n",
       "\n",
       "    .dataframe tbody tr th {\n",
       "        vertical-align: top;\n",
       "    }\n",
       "\n",
       "    .dataframe thead th {\n",
       "        text-align: right;\n",
       "    }\n",
       "</style>\n",
       "<table border=\"1\" class=\"dataframe\">\n",
       "  <thead>\n",
       "    <tr style=\"text-align: right;\">\n",
       "      <th></th>\n",
       "      <th>mpg</th>\n",
       "      <th>cyl</th>\n",
       "      <th>disp</th>\n",
       "      <th>hp</th>\n",
       "      <th>wgt</th>\n",
       "      <th>acc</th>\n",
       "      <th>country</th>\n",
       "      <th>year</th>\n",
       "      <th>make</th>\n",
       "      <th>model</th>\n",
       "    </tr>\n",
       "  </thead>\n",
       "  <tbody>\n",
       "    <tr>\n",
       "      <th>0</th>\n",
       "      <td>18.0</td>\n",
       "      <td>8</td>\n",
       "      <td>307.0</td>\n",
       "      <td>130</td>\n",
       "      <td>3504</td>\n",
       "      <td>12.0</td>\n",
       "      <td>1</td>\n",
       "      <td>70</td>\n",
       "      <td>chevrolet</td>\n",
       "      <td>chevelle malibu</td>\n",
       "    </tr>\n",
       "    <tr>\n",
       "      <th>1</th>\n",
       "      <td>15.0</td>\n",
       "      <td>8</td>\n",
       "      <td>350.0</td>\n",
       "      <td>165</td>\n",
       "      <td>3693</td>\n",
       "      <td>11.5</td>\n",
       "      <td>1</td>\n",
       "      <td>70</td>\n",
       "      <td>buick</td>\n",
       "      <td>skylark 320</td>\n",
       "    </tr>\n",
       "    <tr>\n",
       "      <th>2</th>\n",
       "      <td>18.0</td>\n",
       "      <td>8</td>\n",
       "      <td>318.0</td>\n",
       "      <td>150</td>\n",
       "      <td>3436</td>\n",
       "      <td>11.0</td>\n",
       "      <td>1</td>\n",
       "      <td>70</td>\n",
       "      <td>plymouth</td>\n",
       "      <td>satellite</td>\n",
       "    </tr>\n",
       "    <tr>\n",
       "      <th>3</th>\n",
       "      <td>16.0</td>\n",
       "      <td>8</td>\n",
       "      <td>304.0</td>\n",
       "      <td>150</td>\n",
       "      <td>3433</td>\n",
       "      <td>12.0</td>\n",
       "      <td>1</td>\n",
       "      <td>70</td>\n",
       "      <td>amc</td>\n",
       "      <td>rebel sst</td>\n",
       "    </tr>\n",
       "    <tr>\n",
       "      <th>4</th>\n",
       "      <td>17.0</td>\n",
       "      <td>8</td>\n",
       "      <td>302.0</td>\n",
       "      <td>140</td>\n",
       "      <td>3449</td>\n",
       "      <td>10.5</td>\n",
       "      <td>1</td>\n",
       "      <td>70</td>\n",
       "      <td>ford</td>\n",
       "      <td>torino</td>\n",
       "    </tr>\n",
       "  </tbody>\n",
       "</table>\n",
       "</div>"
      ],
      "text/plain": [
       "    mpg  cyl   disp   hp   wgt   acc  country  year       make  \\\n",
       "0  18.0    8  307.0  130  3504  12.0        1    70  chevrolet   \n",
       "1  15.0    8  350.0  165  3693  11.5        1    70      buick   \n",
       "2  18.0    8  318.0  150  3436  11.0        1    70   plymouth   \n",
       "3  16.0    8  304.0  150  3433  12.0        1    70        amc   \n",
       "4  17.0    8  302.0  140  3449  10.5        1    70       ford   \n",
       "\n",
       "             model  \n",
       "0  chevelle malibu  \n",
       "1      skylark 320  \n",
       "2        satellite  \n",
       "3        rebel sst  \n",
       "4           torino  "
      ]
     },
     "execution_count": 10,
     "metadata": {},
     "output_type": "execute_result"
    }
   ],
   "source": [
    "data.head()"
   ]
  },
  {
   "cell_type": "code",
   "execution_count": 11,
   "metadata": {},
   "outputs": [],
   "source": [
    "# Rename Column\n",
    "cols = {\"cyl\": \"cylinders\",\n",
    "        \"disp\": \"displacement\",\n",
    "        \"hp\": \"horsepower\",\n",
    "        \"wgt\": \"weight\",\n",
    "        \"acc\": \"acceleration\"\n",
    "       }\n",
    "data = data.rename(columns = cols)\n",
    "        "
   ]
  },
  {
   "cell_type": "code",
   "execution_count": 12,
   "metadata": {},
   "outputs": [
    {
     "data": {
      "text/html": [
       "<div>\n",
       "<style scoped>\n",
       "    .dataframe tbody tr th:only-of-type {\n",
       "        vertical-align: middle;\n",
       "    }\n",
       "\n",
       "    .dataframe tbody tr th {\n",
       "        vertical-align: top;\n",
       "    }\n",
       "\n",
       "    .dataframe thead th {\n",
       "        text-align: right;\n",
       "    }\n",
       "</style>\n",
       "<table border=\"1\" class=\"dataframe\">\n",
       "  <thead>\n",
       "    <tr style=\"text-align: right;\">\n",
       "      <th></th>\n",
       "      <th>mpg</th>\n",
       "      <th>cylinders</th>\n",
       "      <th>displacement</th>\n",
       "      <th>horsepower</th>\n",
       "      <th>weight</th>\n",
       "      <th>acceleration</th>\n",
       "      <th>country</th>\n",
       "      <th>year</th>\n",
       "      <th>make</th>\n",
       "      <th>model</th>\n",
       "    </tr>\n",
       "  </thead>\n",
       "  <tbody>\n",
       "    <tr>\n",
       "      <th>0</th>\n",
       "      <td>18.0</td>\n",
       "      <td>8</td>\n",
       "      <td>307.0</td>\n",
       "      <td>130</td>\n",
       "      <td>3504</td>\n",
       "      <td>12.0</td>\n",
       "      <td>1</td>\n",
       "      <td>70</td>\n",
       "      <td>chevrolet</td>\n",
       "      <td>chevelle malibu</td>\n",
       "    </tr>\n",
       "    <tr>\n",
       "      <th>1</th>\n",
       "      <td>15.0</td>\n",
       "      <td>8</td>\n",
       "      <td>350.0</td>\n",
       "      <td>165</td>\n",
       "      <td>3693</td>\n",
       "      <td>11.5</td>\n",
       "      <td>1</td>\n",
       "      <td>70</td>\n",
       "      <td>buick</td>\n",
       "      <td>skylark 320</td>\n",
       "    </tr>\n",
       "    <tr>\n",
       "      <th>2</th>\n",
       "      <td>18.0</td>\n",
       "      <td>8</td>\n",
       "      <td>318.0</td>\n",
       "      <td>150</td>\n",
       "      <td>3436</td>\n",
       "      <td>11.0</td>\n",
       "      <td>1</td>\n",
       "      <td>70</td>\n",
       "      <td>plymouth</td>\n",
       "      <td>satellite</td>\n",
       "    </tr>\n",
       "    <tr>\n",
       "      <th>3</th>\n",
       "      <td>16.0</td>\n",
       "      <td>8</td>\n",
       "      <td>304.0</td>\n",
       "      <td>150</td>\n",
       "      <td>3433</td>\n",
       "      <td>12.0</td>\n",
       "      <td>1</td>\n",
       "      <td>70</td>\n",
       "      <td>amc</td>\n",
       "      <td>rebel sst</td>\n",
       "    </tr>\n",
       "    <tr>\n",
       "      <th>4</th>\n",
       "      <td>17.0</td>\n",
       "      <td>8</td>\n",
       "      <td>302.0</td>\n",
       "      <td>140</td>\n",
       "      <td>3449</td>\n",
       "      <td>10.5</td>\n",
       "      <td>1</td>\n",
       "      <td>70</td>\n",
       "      <td>ford</td>\n",
       "      <td>torino</td>\n",
       "    </tr>\n",
       "  </tbody>\n",
       "</table>\n",
       "</div>"
      ],
      "text/plain": [
       "    mpg  cylinders  displacement horsepower  weight  acceleration  country  \\\n",
       "0  18.0          8         307.0        130    3504          12.0        1   \n",
       "1  15.0          8         350.0        165    3693          11.5        1   \n",
       "2  18.0          8         318.0        150    3436          11.0        1   \n",
       "3  16.0          8         304.0        150    3433          12.0        1   \n",
       "4  17.0          8         302.0        140    3449          10.5        1   \n",
       "\n",
       "   year       make            model  \n",
       "0    70  chevrolet  chevelle malibu  \n",
       "1    70      buick      skylark 320  \n",
       "2    70   plymouth        satellite  \n",
       "3    70        amc        rebel sst  \n",
       "4    70       ford           torino  "
      ]
     },
     "execution_count": 12,
     "metadata": {},
     "output_type": "execute_result"
    }
   ],
   "source": [
    "data.head()"
   ]
  },
  {
   "cell_type": "code",
   "execution_count": 13,
   "metadata": {},
   "outputs": [
    {
     "data": {
      "text/plain": [
       "mpg             0\n",
       "cylinders       0\n",
       "displacement    0\n",
       "horsepower      0\n",
       "weight          0\n",
       "acceleration    0\n",
       "country         0\n",
       "year            0\n",
       "make            0\n",
       "model           2\n",
       "dtype: int64"
      ]
     },
     "execution_count": 13,
     "metadata": {},
     "output_type": "execute_result"
    }
   ],
   "source": [
    "# Look for null values\n",
    "data.isnull().sum()"
   ]
  },
  {
   "cell_type": "code",
   "execution_count": 14,
   "metadata": {},
   "outputs": [
    {
     "data": {
      "text/plain": [
       "mpg             float64\n",
       "cylinders         int64\n",
       "displacement    float64\n",
       "horsepower       object\n",
       "weight            int64\n",
       "acceleration    float64\n",
       "country           int64\n",
       "year              int64\n",
       "make             object\n",
       "model            object\n",
       "dtype: object"
      ]
     },
     "execution_count": 14,
     "metadata": {},
     "output_type": "execute_result"
    }
   ],
   "source": [
    "# View data types\n",
    "data.dtypes"
   ]
  },
  {
   "cell_type": "code",
   "execution_count": 15,
   "metadata": {},
   "outputs": [
    {
     "data": {
      "text/plain": [
       "mpg              25.0\n",
       "cylinders           4\n",
       "displacement     98.0\n",
       "horsepower          ?\n",
       "weight           2046\n",
       "acceleration     19.0\n",
       "country             1\n",
       "year               71\n",
       "make             ford\n",
       "model           pinto\n",
       "Name: 32, dtype: object"
      ]
     },
     "execution_count": 15,
     "metadata": {},
     "output_type": "execute_result"
    }
   ],
   "source": [
    "data.iloc[32]"
   ]
  },
  {
   "cell_type": "code",
   "execution_count": 16,
   "metadata": {},
   "outputs": [],
   "source": [
    "data.replace(to_replace=\"?\", value=None, inplace=True)"
   ]
  },
  {
   "cell_type": "code",
   "execution_count": 17,
   "metadata": {},
   "outputs": [],
   "source": [
    "data = data.dropna()"
   ]
  },
  {
   "cell_type": "code",
   "execution_count": 18,
   "metadata": {},
   "outputs": [],
   "source": [
    "# convert horsepower to int\n",
    "data['horsepower'] = data ['horsepower'].astype(int)"
   ]
  },
  {
   "cell_type": "code",
   "execution_count": 19,
   "metadata": {},
   "outputs": [
    {
     "data": {
      "text/plain": [
       "mpg             float64\n",
       "cylinders         int64\n",
       "displacement    float64\n",
       "horsepower        int64\n",
       "weight            int64\n",
       "acceleration    float64\n",
       "country           int64\n",
       "year              int64\n",
       "make             object\n",
       "model            object\n",
       "dtype: object"
      ]
     },
     "execution_count": 19,
     "metadata": {},
     "output_type": "execute_result"
    }
   ],
   "source": [
    "data.dtypes"
   ]
  },
  {
   "cell_type": "code",
   "execution_count": 20,
   "metadata": {},
   "outputs": [],
   "source": [
    "# format year\n",
    "data[\"year\"] = data[\"year\"].add(1900)"
   ]
  },
  {
   "cell_type": "code",
   "execution_count": 21,
   "metadata": {},
   "outputs": [
    {
     "data": {
      "text/html": [
       "<div>\n",
       "<style scoped>\n",
       "    .dataframe tbody tr th:only-of-type {\n",
       "        vertical-align: middle;\n",
       "    }\n",
       "\n",
       "    .dataframe tbody tr th {\n",
       "        vertical-align: top;\n",
       "    }\n",
       "\n",
       "    .dataframe thead th {\n",
       "        text-align: right;\n",
       "    }\n",
       "</style>\n",
       "<table border=\"1\" class=\"dataframe\">\n",
       "  <thead>\n",
       "    <tr style=\"text-align: right;\">\n",
       "      <th></th>\n",
       "      <th>mpg</th>\n",
       "      <th>cylinders</th>\n",
       "      <th>displacement</th>\n",
       "      <th>horsepower</th>\n",
       "      <th>weight</th>\n",
       "      <th>acceleration</th>\n",
       "      <th>country</th>\n",
       "      <th>year</th>\n",
       "      <th>make</th>\n",
       "      <th>model</th>\n",
       "    </tr>\n",
       "  </thead>\n",
       "  <tbody>\n",
       "    <tr>\n",
       "      <th>0</th>\n",
       "      <td>18.0</td>\n",
       "      <td>8</td>\n",
       "      <td>307.0</td>\n",
       "      <td>130</td>\n",
       "      <td>3504</td>\n",
       "      <td>12.0</td>\n",
       "      <td>1</td>\n",
       "      <td>1970</td>\n",
       "      <td>chevrolet</td>\n",
       "      <td>chevelle malibu</td>\n",
       "    </tr>\n",
       "    <tr>\n",
       "      <th>1</th>\n",
       "      <td>15.0</td>\n",
       "      <td>8</td>\n",
       "      <td>350.0</td>\n",
       "      <td>165</td>\n",
       "      <td>3693</td>\n",
       "      <td>11.5</td>\n",
       "      <td>1</td>\n",
       "      <td>1970</td>\n",
       "      <td>buick</td>\n",
       "      <td>skylark 320</td>\n",
       "    </tr>\n",
       "    <tr>\n",
       "      <th>2</th>\n",
       "      <td>18.0</td>\n",
       "      <td>8</td>\n",
       "      <td>318.0</td>\n",
       "      <td>150</td>\n",
       "      <td>3436</td>\n",
       "      <td>11.0</td>\n",
       "      <td>1</td>\n",
       "      <td>1970</td>\n",
       "      <td>plymouth</td>\n",
       "      <td>satellite</td>\n",
       "    </tr>\n",
       "    <tr>\n",
       "      <th>3</th>\n",
       "      <td>16.0</td>\n",
       "      <td>8</td>\n",
       "      <td>304.0</td>\n",
       "      <td>150</td>\n",
       "      <td>3433</td>\n",
       "      <td>12.0</td>\n",
       "      <td>1</td>\n",
       "      <td>1970</td>\n",
       "      <td>amc</td>\n",
       "      <td>rebel sst</td>\n",
       "    </tr>\n",
       "    <tr>\n",
       "      <th>4</th>\n",
       "      <td>17.0</td>\n",
       "      <td>8</td>\n",
       "      <td>302.0</td>\n",
       "      <td>140</td>\n",
       "      <td>3449</td>\n",
       "      <td>10.5</td>\n",
       "      <td>1</td>\n",
       "      <td>1970</td>\n",
       "      <td>ford</td>\n",
       "      <td>torino</td>\n",
       "    </tr>\n",
       "  </tbody>\n",
       "</table>\n",
       "</div>"
      ],
      "text/plain": [
       "    mpg  cylinders  displacement  horsepower  weight  acceleration  country  \\\n",
       "0  18.0          8         307.0         130    3504          12.0        1   \n",
       "1  15.0          8         350.0         165    3693          11.5        1   \n",
       "2  18.0          8         318.0         150    3436          11.0        1   \n",
       "3  16.0          8         304.0         150    3433          12.0        1   \n",
       "4  17.0          8         302.0         140    3449          10.5        1   \n",
       "\n",
       "   year       make            model  \n",
       "0  1970  chevrolet  chevelle malibu  \n",
       "1  1970      buick      skylark 320  \n",
       "2  1970   plymouth        satellite  \n",
       "3  1970        amc        rebel sst  \n",
       "4  1970       ford           torino  "
      ]
     },
     "execution_count": 21,
     "metadata": {},
     "output_type": "execute_result"
    }
   ],
   "source": [
    "data.head()"
   ]
  },
  {
   "cell_type": "markdown",
   "metadata": {},
   "source": [
    "## 3) Feature selection and Feature Engineering"
   ]
  },
  {
   "cell_type": "code",
   "execution_count": 22,
   "metadata": {},
   "outputs": [
    {
     "data": {
      "text/html": [
       "<div>\n",
       "<style scoped>\n",
       "    .dataframe tbody tr th:only-of-type {\n",
       "        vertical-align: middle;\n",
       "    }\n",
       "\n",
       "    .dataframe tbody tr th {\n",
       "        vertical-align: top;\n",
       "    }\n",
       "\n",
       "    .dataframe thead th {\n",
       "        text-align: right;\n",
       "    }\n",
       "</style>\n",
       "<table border=\"1\" class=\"dataframe\">\n",
       "  <thead>\n",
       "    <tr style=\"text-align: right;\">\n",
       "      <th></th>\n",
       "      <th>mpg</th>\n",
       "      <th>cylinders</th>\n",
       "      <th>displacement</th>\n",
       "      <th>horsepower</th>\n",
       "      <th>weight</th>\n",
       "      <th>acceleration</th>\n",
       "      <th>country</th>\n",
       "      <th>year</th>\n",
       "      <th>make</th>\n",
       "      <th>model</th>\n",
       "    </tr>\n",
       "  </thead>\n",
       "  <tbody>\n",
       "    <tr>\n",
       "      <th>0</th>\n",
       "      <td>18.0</td>\n",
       "      <td>8</td>\n",
       "      <td>307.0</td>\n",
       "      <td>130</td>\n",
       "      <td>3504</td>\n",
       "      <td>12.0</td>\n",
       "      <td>1</td>\n",
       "      <td>1970</td>\n",
       "      <td>chevrolet</td>\n",
       "      <td>chevelle malibu</td>\n",
       "    </tr>\n",
       "  </tbody>\n",
       "</table>\n",
       "</div>"
      ],
      "text/plain": [
       "    mpg  cylinders  displacement  horsepower  weight  acceleration  country  \\\n",
       "0  18.0          8         307.0         130    3504          12.0        1   \n",
       "\n",
       "   year       make            model  \n",
       "0  1970  chevrolet  chevelle malibu  "
      ]
     },
     "execution_count": 22,
     "metadata": {},
     "output_type": "execute_result"
    }
   ],
   "source": [
    "data.head(1)"
   ]
  },
  {
   "cell_type": "code",
   "execution_count": 23,
   "metadata": {},
   "outputs": [],
   "source": [
    "# Drop make and model\n",
    "data = data.drop(\"make\", axis=1)\n",
    "data = data.drop(\"model\", axis=1)"
   ]
  },
  {
   "cell_type": "code",
   "execution_count": 24,
   "metadata": {},
   "outputs": [
    {
     "data": {
      "text/html": [
       "<div>\n",
       "<style scoped>\n",
       "    .dataframe tbody tr th:only-of-type {\n",
       "        vertical-align: middle;\n",
       "    }\n",
       "\n",
       "    .dataframe tbody tr th {\n",
       "        vertical-align: top;\n",
       "    }\n",
       "\n",
       "    .dataframe thead th {\n",
       "        text-align: right;\n",
       "    }\n",
       "</style>\n",
       "<table border=\"1\" class=\"dataframe\">\n",
       "  <thead>\n",
       "    <tr style=\"text-align: right;\">\n",
       "      <th></th>\n",
       "      <th>mpg</th>\n",
       "      <th>cylinders</th>\n",
       "      <th>displacement</th>\n",
       "      <th>horsepower</th>\n",
       "      <th>weight</th>\n",
       "      <th>acceleration</th>\n",
       "      <th>country</th>\n",
       "      <th>year</th>\n",
       "    </tr>\n",
       "  </thead>\n",
       "  <tbody>\n",
       "    <tr>\n",
       "      <th>0</th>\n",
       "      <td>18.0</td>\n",
       "      <td>8</td>\n",
       "      <td>307.0</td>\n",
       "      <td>130</td>\n",
       "      <td>3504</td>\n",
       "      <td>12.0</td>\n",
       "      <td>1</td>\n",
       "      <td>1970</td>\n",
       "    </tr>\n",
       "    <tr>\n",
       "      <th>1</th>\n",
       "      <td>15.0</td>\n",
       "      <td>8</td>\n",
       "      <td>350.0</td>\n",
       "      <td>165</td>\n",
       "      <td>3693</td>\n",
       "      <td>11.5</td>\n",
       "      <td>1</td>\n",
       "      <td>1970</td>\n",
       "    </tr>\n",
       "    <tr>\n",
       "      <th>2</th>\n",
       "      <td>18.0</td>\n",
       "      <td>8</td>\n",
       "      <td>318.0</td>\n",
       "      <td>150</td>\n",
       "      <td>3436</td>\n",
       "      <td>11.0</td>\n",
       "      <td>1</td>\n",
       "      <td>1970</td>\n",
       "    </tr>\n",
       "  </tbody>\n",
       "</table>\n",
       "</div>"
      ],
      "text/plain": [
       "    mpg  cylinders  displacement  horsepower  weight  acceleration  country  \\\n",
       "0  18.0          8         307.0         130    3504          12.0        1   \n",
       "1  15.0          8         350.0         165    3693          11.5        1   \n",
       "2  18.0          8         318.0         150    3436          11.0        1   \n",
       "\n",
       "   year  \n",
       "0  1970  \n",
       "1  1970  \n",
       "2  1970  "
      ]
     },
     "execution_count": 24,
     "metadata": {},
     "output_type": "execute_result"
    }
   ],
   "source": [
    "data.head(3)"
   ]
  },
  {
   "cell_type": "code",
   "execution_count": 25,
   "metadata": {},
   "outputs": [],
   "source": [
    "# Change country to on hot encoding ( only 1 bit in a group of bit can be 1)\n",
    "data['country'] = data['country'].map({1: 'USA', 2: 'Europe', 3: 'Japan'})\n",
    "data = pd.get_dummies(data, columns=['country'], prefix='', prefix_sep='')"
   ]
  },
  {
   "cell_type": "code",
   "execution_count": 26,
   "metadata": {},
   "outputs": [
    {
     "data": {
      "text/html": [
       "<div>\n",
       "<style scoped>\n",
       "    .dataframe tbody tr th:only-of-type {\n",
       "        vertical-align: middle;\n",
       "    }\n",
       "\n",
       "    .dataframe tbody tr th {\n",
       "        vertical-align: top;\n",
       "    }\n",
       "\n",
       "    .dataframe thead th {\n",
       "        text-align: right;\n",
       "    }\n",
       "</style>\n",
       "<table border=\"1\" class=\"dataframe\">\n",
       "  <thead>\n",
       "    <tr style=\"text-align: right;\">\n",
       "      <th></th>\n",
       "      <th>mpg</th>\n",
       "      <th>cylinders</th>\n",
       "      <th>displacement</th>\n",
       "      <th>horsepower</th>\n",
       "      <th>weight</th>\n",
       "      <th>acceleration</th>\n",
       "      <th>year</th>\n",
       "      <th>Europe</th>\n",
       "      <th>Japan</th>\n",
       "      <th>USA</th>\n",
       "    </tr>\n",
       "  </thead>\n",
       "  <tbody>\n",
       "    <tr>\n",
       "      <th>0</th>\n",
       "      <td>18.0</td>\n",
       "      <td>8</td>\n",
       "      <td>307.0</td>\n",
       "      <td>130</td>\n",
       "      <td>3504</td>\n",
       "      <td>12.0</td>\n",
       "      <td>1970</td>\n",
       "      <td>False</td>\n",
       "      <td>False</td>\n",
       "      <td>True</td>\n",
       "    </tr>\n",
       "    <tr>\n",
       "      <th>1</th>\n",
       "      <td>15.0</td>\n",
       "      <td>8</td>\n",
       "      <td>350.0</td>\n",
       "      <td>165</td>\n",
       "      <td>3693</td>\n",
       "      <td>11.5</td>\n",
       "      <td>1970</td>\n",
       "      <td>False</td>\n",
       "      <td>False</td>\n",
       "      <td>True</td>\n",
       "    </tr>\n",
       "    <tr>\n",
       "      <th>2</th>\n",
       "      <td>18.0</td>\n",
       "      <td>8</td>\n",
       "      <td>318.0</td>\n",
       "      <td>150</td>\n",
       "      <td>3436</td>\n",
       "      <td>11.0</td>\n",
       "      <td>1970</td>\n",
       "      <td>False</td>\n",
       "      <td>False</td>\n",
       "      <td>True</td>\n",
       "    </tr>\n",
       "    <tr>\n",
       "      <th>3</th>\n",
       "      <td>16.0</td>\n",
       "      <td>8</td>\n",
       "      <td>304.0</td>\n",
       "      <td>150</td>\n",
       "      <td>3433</td>\n",
       "      <td>12.0</td>\n",
       "      <td>1970</td>\n",
       "      <td>False</td>\n",
       "      <td>False</td>\n",
       "      <td>True</td>\n",
       "    </tr>\n",
       "    <tr>\n",
       "      <th>4</th>\n",
       "      <td>17.0</td>\n",
       "      <td>8</td>\n",
       "      <td>302.0</td>\n",
       "      <td>140</td>\n",
       "      <td>3449</td>\n",
       "      <td>10.5</td>\n",
       "      <td>1970</td>\n",
       "      <td>False</td>\n",
       "      <td>False</td>\n",
       "      <td>True</td>\n",
       "    </tr>\n",
       "  </tbody>\n",
       "</table>\n",
       "</div>"
      ],
      "text/plain": [
       "    mpg  cylinders  displacement  horsepower  weight  acceleration  year  \\\n",
       "0  18.0          8         307.0         130    3504          12.0  1970   \n",
       "1  15.0          8         350.0         165    3693          11.5  1970   \n",
       "2  18.0          8         318.0         150    3436          11.0  1970   \n",
       "3  16.0          8         304.0         150    3433          12.0  1970   \n",
       "4  17.0          8         302.0         140    3449          10.5  1970   \n",
       "\n",
       "   Europe  Japan   USA  \n",
       "0   False  False  True  \n",
       "1   False  False  True  \n",
       "2   False  False  True  \n",
       "3   False  False  True  \n",
       "4   False  False  True  "
      ]
     },
     "execution_count": 26,
     "metadata": {},
     "output_type": "execute_result"
    }
   ],
   "source": [
    "# I geat direct booleans instead of 001. Change in functions used since demo vid? Nov 24, 2023\n",
    "data.head()"
   ]
  },
  {
   "cell_type": "code",
   "execution_count": 27,
   "metadata": {},
   "outputs": [
    {
     "data": {
      "text/html": [
       "<div>\n",
       "<style scoped>\n",
       "    .dataframe tbody tr th:only-of-type {\n",
       "        vertical-align: middle;\n",
       "    }\n",
       "\n",
       "    .dataframe tbody tr th {\n",
       "        vertical-align: top;\n",
       "    }\n",
       "\n",
       "    .dataframe thead th {\n",
       "        text-align: right;\n",
       "    }\n",
       "</style>\n",
       "<table border=\"1\" class=\"dataframe\">\n",
       "  <thead>\n",
       "    <tr style=\"text-align: right;\">\n",
       "      <th></th>\n",
       "      <th>mpg</th>\n",
       "      <th>cylinders</th>\n",
       "      <th>displacement</th>\n",
       "      <th>horsepower</th>\n",
       "      <th>weight</th>\n",
       "      <th>acceleration</th>\n",
       "      <th>year</th>\n",
       "      <th>Europe</th>\n",
       "      <th>Japan</th>\n",
       "      <th>USA</th>\n",
       "    </tr>\n",
       "  </thead>\n",
       "  <tbody>\n",
       "    <tr>\n",
       "      <th>mpg</th>\n",
       "      <td>1.000000</td>\n",
       "      <td>-0.777254</td>\n",
       "      <td>-0.804760</td>\n",
       "      <td>-0.777768</td>\n",
       "      <td>-0.831764</td>\n",
       "      <td>0.422076</td>\n",
       "      <td>0.579658</td>\n",
       "      <td>0.246606</td>\n",
       "      <td>0.449369</td>\n",
       "      <td>-0.563736</td>\n",
       "    </tr>\n",
       "    <tr>\n",
       "      <th>cylinders</th>\n",
       "      <td>-0.777254</td>\n",
       "      <td>1.000000</td>\n",
       "      <td>0.950638</td>\n",
       "      <td>0.842898</td>\n",
       "      <td>0.897210</td>\n",
       "      <td>-0.504300</td>\n",
       "      <td>-0.345426</td>\n",
       "      <td>-0.355225</td>\n",
       "      <td>-0.400235</td>\n",
       "      <td>0.608541</td>\n",
       "    </tr>\n",
       "    <tr>\n",
       "      <th>displacement</th>\n",
       "      <td>-0.804760</td>\n",
       "      <td>0.950638</td>\n",
       "      <td>1.000000</td>\n",
       "      <td>0.897275</td>\n",
       "      <td>0.932769</td>\n",
       "      <td>-0.543423</td>\n",
       "      <td>-0.369486</td>\n",
       "      <td>-0.374646</td>\n",
       "      <td>-0.437174</td>\n",
       "      <td>0.654213</td>\n",
       "    </tr>\n",
       "    <tr>\n",
       "      <th>horsepower</th>\n",
       "      <td>-0.777768</td>\n",
       "      <td>0.842898</td>\n",
       "      <td>0.897275</td>\n",
       "      <td>1.000000</td>\n",
       "      <td>0.864284</td>\n",
       "      <td>-0.688670</td>\n",
       "      <td>-0.415064</td>\n",
       "      <td>-0.286980</td>\n",
       "      <td>-0.319117</td>\n",
       "      <td>0.488148</td>\n",
       "    </tr>\n",
       "    <tr>\n",
       "      <th>weight</th>\n",
       "      <td>-0.831764</td>\n",
       "      <td>0.897210</td>\n",
       "      <td>0.932769</td>\n",
       "      <td>0.864284</td>\n",
       "      <td>1.000000</td>\n",
       "      <td>-0.415836</td>\n",
       "      <td>-0.307805</td>\n",
       "      <td>-0.296699</td>\n",
       "      <td>-0.444370</td>\n",
       "      <td>0.598945</td>\n",
       "    </tr>\n",
       "    <tr>\n",
       "      <th>acceleration</th>\n",
       "      <td>0.422076</td>\n",
       "      <td>-0.504300</td>\n",
       "      <td>-0.543423</td>\n",
       "      <td>-0.688670</td>\n",
       "      <td>-0.415836</td>\n",
       "      <td>1.000000</td>\n",
       "      <td>0.288478</td>\n",
       "      <td>0.209536</td>\n",
       "      <td>0.112154</td>\n",
       "      <td>-0.256880</td>\n",
       "    </tr>\n",
       "    <tr>\n",
       "      <th>year</th>\n",
       "      <td>0.579658</td>\n",
       "      <td>-0.345426</td>\n",
       "      <td>-0.369486</td>\n",
       "      <td>-0.415064</td>\n",
       "      <td>-0.307805</td>\n",
       "      <td>0.288478</td>\n",
       "      <td>1.000000</td>\n",
       "      <td>-0.036896</td>\n",
       "      <td>0.198186</td>\n",
       "      <td>-0.134272</td>\n",
       "    </tr>\n",
       "    <tr>\n",
       "      <th>Europe</th>\n",
       "      <td>0.246606</td>\n",
       "      <td>-0.355225</td>\n",
       "      <td>-0.374646</td>\n",
       "      <td>-0.286980</td>\n",
       "      <td>-0.296699</td>\n",
       "      <td>0.209536</td>\n",
       "      <td>-0.036896</td>\n",
       "      <td>1.000000</td>\n",
       "      <td>-0.227929</td>\n",
       "      <td>-0.597345</td>\n",
       "    </tr>\n",
       "    <tr>\n",
       "      <th>Japan</th>\n",
       "      <td>0.449369</td>\n",
       "      <td>-0.400235</td>\n",
       "      <td>-0.437174</td>\n",
       "      <td>-0.319117</td>\n",
       "      <td>-0.444370</td>\n",
       "      <td>0.112154</td>\n",
       "      <td>0.198186</td>\n",
       "      <td>-0.227929</td>\n",
       "      <td>1.000000</td>\n",
       "      <td>-0.644722</td>\n",
       "    </tr>\n",
       "    <tr>\n",
       "      <th>USA</th>\n",
       "      <td>-0.563736</td>\n",
       "      <td>0.608541</td>\n",
       "      <td>0.654213</td>\n",
       "      <td>0.488148</td>\n",
       "      <td>0.598945</td>\n",
       "      <td>-0.256880</td>\n",
       "      <td>-0.134272</td>\n",
       "      <td>-0.597345</td>\n",
       "      <td>-0.644722</td>\n",
       "      <td>1.000000</td>\n",
       "    </tr>\n",
       "  </tbody>\n",
       "</table>\n",
       "</div>"
      ],
      "text/plain": [
       "                   mpg  cylinders  displacement  horsepower    weight  \\\n",
       "mpg           1.000000  -0.777254     -0.804760   -0.777768 -0.831764   \n",
       "cylinders    -0.777254   1.000000      0.950638    0.842898  0.897210   \n",
       "displacement -0.804760   0.950638      1.000000    0.897275  0.932769   \n",
       "horsepower   -0.777768   0.842898      0.897275    1.000000  0.864284   \n",
       "weight       -0.831764   0.897210      0.932769    0.864284  1.000000   \n",
       "acceleration  0.422076  -0.504300     -0.543423   -0.688670 -0.415836   \n",
       "year          0.579658  -0.345426     -0.369486   -0.415064 -0.307805   \n",
       "Europe        0.246606  -0.355225     -0.374646   -0.286980 -0.296699   \n",
       "Japan         0.449369  -0.400235     -0.437174   -0.319117 -0.444370   \n",
       "USA          -0.563736   0.608541      0.654213    0.488148  0.598945   \n",
       "\n",
       "              acceleration      year    Europe     Japan       USA  \n",
       "mpg               0.422076  0.579658  0.246606  0.449369 -0.563736  \n",
       "cylinders        -0.504300 -0.345426 -0.355225 -0.400235  0.608541  \n",
       "displacement     -0.543423 -0.369486 -0.374646 -0.437174  0.654213  \n",
       "horsepower       -0.688670 -0.415064 -0.286980 -0.319117  0.488148  \n",
       "weight           -0.415836 -0.307805 -0.296699 -0.444370  0.598945  \n",
       "acceleration      1.000000  0.288478  0.209536  0.112154 -0.256880  \n",
       "year              0.288478  1.000000 -0.036896  0.198186 -0.134272  \n",
       "Europe            0.209536 -0.036896  1.000000 -0.227929 -0.597345  \n",
       "Japan             0.112154  0.198186 -0.227929  1.000000 -0.644722  \n",
       "USA              -0.256880 -0.134272 -0.597345 -0.644722  1.000000  "
      ]
     },
     "execution_count": 27,
     "metadata": {},
     "output_type": "execute_result"
    }
   ],
   "source": [
    "# Pairwise correlation\n",
    "data.corr(numeric_only=True)"
   ]
  },
  {
   "cell_type": "code",
   "execution_count": 28,
   "metadata": {},
   "outputs": [
    {
     "data": {
      "text/plain": [
       "<Axes: xlabel='weight', ylabel='mpg'>"
      ]
     },
     "execution_count": 28,
     "metadata": {},
     "output_type": "execute_result"
    },
    {
     "data": {
      "image/png": "[encoded data removed]",
      "text/plain": [
       "<Figure size 640x480 with 1 Axes>"
      ]
     },
     "metadata": {},
     "output_type": "display_data"
    }
   ],
   "source": [
    "# Graph Weight vs MPG\n",
    "data.plot(kind=\"scatter\", x=\"weight\", y=\"mpg\")"
   ]
  },
  {
   "cell_type": "code",
   "execution_count": 29,
   "metadata": {},
   "outputs": [
    {
     "data": {
      "text/plain": [
       "<Axes: xlabel='displacement', ylabel='mpg'>"
      ]
     },
     "execution_count": 29,
     "metadata": {},
     "output_type": "execute_result"
    },
    {
     "data": {
      "image/png": "[encoded data removed]",
      "text/plain": [
       "<Figure size 640x480 with 1 Axes>"
      ]
     },
     "metadata": {},
     "output_type": "display_data"
    }
   ],
   "source": [
    "# Graph displacement vs MPG\n",
    "data.plot(kind=\"scatter\", x=\"displacement\", y=\"mpg\")"
   ]
  },
  {
   "cell_type": "code",
   "execution_count": 30,
   "metadata": {},
   "outputs": [
    {
     "data": {
      "text/plain": [
       "<Axes: xlabel='horsepower', ylabel='mpg'>"
      ]
     },
     "execution_count": 30,
     "metadata": {},
     "output_type": "execute_result"
    },
    {
     "data": {
      "image/png": "[encoded data removed]",
      "text/plain": [
       "<Figure size 640x480 with 1 Axes>"
      ]
     },
     "metadata": {},
     "output_type": "display_data"
    }
   ],
   "source": [
    "# Graph horsepower vs MPG\n",
    "data.plot(kind=\"scatter\", x=\"horsepower\", y=\"mpg\")"
   ]
  },
  {
   "cell_type": "code",
   "execution_count": 31,
   "metadata": {},
   "outputs": [
    {
     "data": {
      "text/plain": [
       "<Axes: xlabel='cylinders', ylabel='mpg'>"
      ]
     },
     "execution_count": 31,
     "metadata": {},
     "output_type": "execute_result"
    },
    {
     "data": {
      "image/png": "[encoded data removed]",
      "text/plain": [
       "<Figure size 640x480 with 1 Axes>"
      ]
     },
     "metadata": {},
     "output_type": "display_data"
    }
   ],
   "source": [
    "# Graph cylinders vs MPG\n",
    "data.plot(kind=\"scatter\", x=\"cylinders\", y=\"mpg\")"
   ]
  },
  {
   "cell_type": "code",
   "execution_count": 32,
   "metadata": {},
   "outputs": [
    {
     "name": "stdout",
     "output_type": "stream",
     "text": [
      "USA:  245\n",
      "Europe:  68\n",
      "Japan:  77\n"
     ]
    }
   ],
   "source": [
    "# Check for class imbalance\n",
    "print(\"USA: \", data[\"USA\"].sum())\n",
    "print(\"Europe: \", data[\"Europe\"].sum())\n",
    "print(\"Japan: \", data[\"Japan\"].sum())"
   ]
  },
  {
   "cell_type": "code",
   "execution_count": 33,
   "metadata": {},
   "outputs": [],
   "source": [
    "#drop country fields since there is a weak correlation between countries and a desire to avoid class imbalance\n",
    "data = data.drop(\"USA\", axis=1)\n",
    "data = data.drop(\"Europe\", axis=1)\n",
    "data = data.drop(\"Japan\", axis=1)\n"
   ]
  },
  {
   "cell_type": "code",
   "execution_count": 34,
   "metadata": {},
   "outputs": [
    {
     "data": {
      "text/html": [
       "<div>\n",
       "<style scoped>\n",
       "    .dataframe tbody tr th:only-of-type {\n",
       "        vertical-align: middle;\n",
       "    }\n",
       "\n",
       "    .dataframe tbody tr th {\n",
       "        vertical-align: top;\n",
       "    }\n",
       "\n",
       "    .dataframe thead th {\n",
       "        text-align: right;\n",
       "    }\n",
       "</style>\n",
       "<table border=\"1\" class=\"dataframe\">\n",
       "  <thead>\n",
       "    <tr style=\"text-align: right;\">\n",
       "      <th></th>\n",
       "      <th>mpg</th>\n",
       "      <th>cylinders</th>\n",
       "      <th>displacement</th>\n",
       "      <th>horsepower</th>\n",
       "      <th>weight</th>\n",
       "      <th>acceleration</th>\n",
       "      <th>year</th>\n",
       "    </tr>\n",
       "  </thead>\n",
       "  <tbody>\n",
       "    <tr>\n",
       "      <th>0</th>\n",
       "      <td>18.0</td>\n",
       "      <td>8</td>\n",
       "      <td>307.0</td>\n",
       "      <td>130</td>\n",
       "      <td>3504</td>\n",
       "      <td>12.0</td>\n",
       "      <td>1970</td>\n",
       "    </tr>\n",
       "    <tr>\n",
       "      <th>1</th>\n",
       "      <td>15.0</td>\n",
       "      <td>8</td>\n",
       "      <td>350.0</td>\n",
       "      <td>165</td>\n",
       "      <td>3693</td>\n",
       "      <td>11.5</td>\n",
       "      <td>1970</td>\n",
       "    </tr>\n",
       "    <tr>\n",
       "      <th>2</th>\n",
       "      <td>18.0</td>\n",
       "      <td>8</td>\n",
       "      <td>318.0</td>\n",
       "      <td>150</td>\n",
       "      <td>3436</td>\n",
       "      <td>11.0</td>\n",
       "      <td>1970</td>\n",
       "    </tr>\n",
       "    <tr>\n",
       "      <th>3</th>\n",
       "      <td>16.0</td>\n",
       "      <td>8</td>\n",
       "      <td>304.0</td>\n",
       "      <td>150</td>\n",
       "      <td>3433</td>\n",
       "      <td>12.0</td>\n",
       "      <td>1970</td>\n",
       "    </tr>\n",
       "    <tr>\n",
       "      <th>4</th>\n",
       "      <td>17.0</td>\n",
       "      <td>8</td>\n",
       "      <td>302.0</td>\n",
       "      <td>140</td>\n",
       "      <td>3449</td>\n",
       "      <td>10.5</td>\n",
       "      <td>1970</td>\n",
       "    </tr>\n",
       "  </tbody>\n",
       "</table>\n",
       "</div>"
      ],
      "text/plain": [
       "    mpg  cylinders  displacement  horsepower  weight  acceleration  year\n",
       "0  18.0          8         307.0         130    3504          12.0  1970\n",
       "1  15.0          8         350.0         165    3693          11.5  1970\n",
       "2  18.0          8         318.0         150    3436          11.0  1970\n",
       "3  16.0          8         304.0         150    3433          12.0  1970\n",
       "4  17.0          8         302.0         140    3449          10.5  1970"
      ]
     },
     "execution_count": 34,
     "metadata": {},
     "output_type": "execute_result"
    }
   ],
   "source": [
    "data.head()"
   ]
  },
  {
   "cell_type": "markdown",
   "metadata": {},
   "source": [
    "## 4) Model Training and Evaluation"
   ]
  },
  {
   "cell_type": "markdown",
   "metadata": {},
   "source": [
    "### Data split (training vs testing)"
   ]
  },
  {
   "cell_type": "code",
   "execution_count": 35,
   "metadata": {},
   "outputs": [
    {
     "data": {
      "text/plain": [
       "(390, 7)"
      ]
     },
     "execution_count": 35,
     "metadata": {},
     "output_type": "execute_result"
    }
   ],
   "source": [
    "data.shape"
   ]
  },
  {
   "cell_type": "code",
   "execution_count": 36,
   "metadata": {},
   "outputs": [],
   "source": [
    "# Training\n",
    "training_data=data.head(310)\n",
    "\n",
    "# Testing data\n",
    "testing_data = data.tail(80)"
   ]
  },
  {
   "cell_type": "code",
   "execution_count": 37,
   "metadata": {},
   "outputs": [
    {
     "data": {
      "text/html": [
       "<div>\n",
       "<style scoped>\n",
       "    .dataframe tbody tr th:only-of-type {\n",
       "        vertical-align: middle;\n",
       "    }\n",
       "\n",
       "    .dataframe tbody tr th {\n",
       "        vertical-align: top;\n",
       "    }\n",
       "\n",
       "    .dataframe thead th {\n",
       "        text-align: right;\n",
       "    }\n",
       "</style>\n",
       "<table border=\"1\" class=\"dataframe\">\n",
       "  <thead>\n",
       "    <tr style=\"text-align: right;\">\n",
       "      <th></th>\n",
       "      <th>mpg</th>\n",
       "      <th>cylinders</th>\n",
       "      <th>displacement</th>\n",
       "      <th>horsepower</th>\n",
       "      <th>weight</th>\n",
       "      <th>acceleration</th>\n",
       "      <th>year</th>\n",
       "    </tr>\n",
       "  </thead>\n",
       "  <tbody>\n",
       "    <tr>\n",
       "      <th>308</th>\n",
       "      <td>33.5</td>\n",
       "      <td>4</td>\n",
       "      <td>151.0</td>\n",
       "      <td>90</td>\n",
       "      <td>2556</td>\n",
       "      <td>13.2</td>\n",
       "      <td>1979</td>\n",
       "    </tr>\n",
       "    <tr>\n",
       "      <th>309</th>\n",
       "      <td>41.5</td>\n",
       "      <td>4</td>\n",
       "      <td>98.0</td>\n",
       "      <td>76</td>\n",
       "      <td>2144</td>\n",
       "      <td>14.7</td>\n",
       "      <td>1980</td>\n",
       "    </tr>\n",
       "    <tr>\n",
       "      <th>310</th>\n",
       "      <td>38.1</td>\n",
       "      <td>4</td>\n",
       "      <td>89.0</td>\n",
       "      <td>60</td>\n",
       "      <td>1968</td>\n",
       "      <td>18.8</td>\n",
       "      <td>1980</td>\n",
       "    </tr>\n",
       "    <tr>\n",
       "      <th>311</th>\n",
       "      <td>32.1</td>\n",
       "      <td>4</td>\n",
       "      <td>98.0</td>\n",
       "      <td>70</td>\n",
       "      <td>2120</td>\n",
       "      <td>15.5</td>\n",
       "      <td>1980</td>\n",
       "    </tr>\n",
       "    <tr>\n",
       "      <th>312</th>\n",
       "      <td>37.2</td>\n",
       "      <td>4</td>\n",
       "      <td>86.0</td>\n",
       "      <td>65</td>\n",
       "      <td>2019</td>\n",
       "      <td>16.4</td>\n",
       "      <td>1980</td>\n",
       "    </tr>\n",
       "  </tbody>\n",
       "</table>\n",
       "</div>"
      ],
      "text/plain": [
       "      mpg  cylinders  displacement  horsepower  weight  acceleration  year\n",
       "308  33.5          4         151.0          90    2556          13.2  1979\n",
       "309  41.5          4          98.0          76    2144          14.7  1980\n",
       "310  38.1          4          89.0          60    1968          18.8  1980\n",
       "311  32.1          4          98.0          70    2120          15.5  1980\n",
       "312  37.2          4          86.0          65    2019          16.4  1980"
      ]
     },
     "execution_count": 37,
     "metadata": {},
     "output_type": "execute_result"
    }
   ],
   "source": [
    "training_data.tail()"
   ]
  },
  {
   "cell_type": "code",
   "execution_count": 38,
   "metadata": {},
   "outputs": [
    {
     "data": {
      "text/html": [
       "<div>\n",
       "<style scoped>\n",
       "    .dataframe tbody tr th:only-of-type {\n",
       "        vertical-align: middle;\n",
       "    }\n",
       "\n",
       "    .dataframe tbody tr th {\n",
       "        vertical-align: top;\n",
       "    }\n",
       "\n",
       "    .dataframe thead th {\n",
       "        text-align: right;\n",
       "    }\n",
       "</style>\n",
       "<table border=\"1\" class=\"dataframe\">\n",
       "  <thead>\n",
       "    <tr style=\"text-align: right;\">\n",
       "      <th></th>\n",
       "      <th>mpg</th>\n",
       "      <th>cylinders</th>\n",
       "      <th>displacement</th>\n",
       "      <th>horsepower</th>\n",
       "      <th>weight</th>\n",
       "      <th>acceleration</th>\n",
       "      <th>year</th>\n",
       "    </tr>\n",
       "  </thead>\n",
       "  <tbody>\n",
       "    <tr>\n",
       "      <th>313</th>\n",
       "      <td>28.0</td>\n",
       "      <td>4</td>\n",
       "      <td>151.0</td>\n",
       "      <td>90</td>\n",
       "      <td>2678</td>\n",
       "      <td>16.5</td>\n",
       "      <td>1980</td>\n",
       "    </tr>\n",
       "    <tr>\n",
       "      <th>314</th>\n",
       "      <td>26.4</td>\n",
       "      <td>4</td>\n",
       "      <td>140.0</td>\n",
       "      <td>88</td>\n",
       "      <td>2870</td>\n",
       "      <td>18.1</td>\n",
       "      <td>1980</td>\n",
       "    </tr>\n",
       "    <tr>\n",
       "      <th>315</th>\n",
       "      <td>24.3</td>\n",
       "      <td>4</td>\n",
       "      <td>151.0</td>\n",
       "      <td>90</td>\n",
       "      <td>3003</td>\n",
       "      <td>20.1</td>\n",
       "      <td>1980</td>\n",
       "    </tr>\n",
       "    <tr>\n",
       "      <th>316</th>\n",
       "      <td>19.1</td>\n",
       "      <td>6</td>\n",
       "      <td>225.0</td>\n",
       "      <td>90</td>\n",
       "      <td>3381</td>\n",
       "      <td>18.7</td>\n",
       "      <td>1980</td>\n",
       "    </tr>\n",
       "    <tr>\n",
       "      <th>317</th>\n",
       "      <td>34.3</td>\n",
       "      <td>4</td>\n",
       "      <td>97.0</td>\n",
       "      <td>78</td>\n",
       "      <td>2188</td>\n",
       "      <td>15.8</td>\n",
       "      <td>1980</td>\n",
       "    </tr>\n",
       "  </tbody>\n",
       "</table>\n",
       "</div>"
      ],
      "text/plain": [
       "      mpg  cylinders  displacement  horsepower  weight  acceleration  year\n",
       "313  28.0          4         151.0          90    2678          16.5  1980\n",
       "314  26.4          4         140.0          88    2870          18.1  1980\n",
       "315  24.3          4         151.0          90    3003          20.1  1980\n",
       "316  19.1          6         225.0          90    3381          18.7  1980\n",
       "317  34.3          4          97.0          78    2188          15.8  1980"
      ]
     },
     "execution_count": 38,
     "metadata": {},
     "output_type": "execute_result"
    }
   ],
   "source": [
    "testing_data.head()"
   ]
  },
  {
   "cell_type": "code",
   "execution_count": 39,
   "metadata": {},
   "outputs": [],
   "source": [
    "# Model 1 Linear regression with a single feature"
   ]
  },
  {
   "cell_type": "code",
   "execution_count": 40,
   "metadata": {},
   "outputs": [],
   "source": [
    "# y = mx + b\n",
    "# x = horsepower\n",
    "# y = mpg"
   ]
  },
  {
   "cell_type": "code",
   "execution_count": 41,
   "metadata": {},
   "outputs": [
    {
     "name": "stderr",
     "output_type": "stream",
     "text": [
      "2023-11-28 02:07:07.660636: I tensorflow/core/util/port.cc:111] oneDNN custom operations are on. You may see slightly different numerical results due to floating-point round-off errors from different computation orders. To turn them off, set the environment variable `TF_ENABLE_ONEDNN_OPTS=0`.\n",
      "2023-11-28 02:07:07.663050: I tensorflow/tsl/cuda/cudart_stub.cc:28] Could not find cuda drivers on your machine, GPU will not be used.\n",
      "2023-11-28 02:07:07.702306: E tensorflow/compiler/xla/stream_executor/cuda/cuda_dnn.cc:9342] Unable to register cuDNN factory: Attempting to register factory for plugin cuDNN when one has already been registered\n",
      "2023-11-28 02:07:07.702598: E tensorflow/compiler/xla/stream_executor/cuda/cuda_fft.cc:609] Unable to register cuFFT factory: Attempting to register factory for plugin cuFFT when one has already been registered\n",
      "2023-11-28 02:07:07.702658: E tensorflow/compiler/xla/stream_executor/cuda/cuda_blas.cc:1518] Unable to register cuBLAS factory: Attempting to register factory for plugin cuBLAS when one has already been registered\n",
      "2023-11-28 02:07:07.714887: I tensorflow/tsl/cuda/cudart_stub.cc:28] Could not find cuda drivers on your machine, GPU will not be used.\n",
      "2023-11-28 02:07:07.715633: I tensorflow/core/platform/cpu_feature_guard.cc:182] This TensorFlow binary is optimized to use available CPU instructions in performance-critical operations.\n",
      "To enable the following instructions: AVX2 AVX512F AVX512_VNNI FMA, in other operations, rebuild TensorFlow with the appropriate compiler flags.\n",
      "2023-11-28 02:07:08.589535: W tensorflow/compiler/tf2tensorrt/utils/py_utils.cc:38] TF-TRT Warning: Could not find TensorRT\n"
     ]
    }
   ],
   "source": [
    "#import libraries\n",
    "import matplotlib.pyplot as plt\n",
    "import numpy as np\n",
    "import tensorflow as tf"
   ]
  },
  {
   "cell_type": "code",
   "execution_count": 42,
   "metadata": {},
   "outputs": [
    {
     "data": {
      "text/plain": [
       "[<matplotlib.lines.Line2D at 0x7fa09ec0d490>]"
      ]
     },
     "execution_count": 42,
     "metadata": {},
     "output_type": "execute_result"
    },
    {
     "data": {
      "image/png": "[encoded data removed]",
      "text/plain": [
       "<Figure size 640x480 with 1 Axes>"
      ]
     },
     "metadata": {},
     "output_type": "display_data"
    }
   ],
   "source": [
    "# test graphs\n",
    "x = np.linspace(0, 10)\n",
    "plt.plot(x, x+0)\n"
   ]
  },
  {
   "cell_type": "code",
   "execution_count": 43,
   "metadata": {},
   "outputs": [
    {
     "data": {
      "text/plain": [
       "[<matplotlib.lines.Line2D at 0x7fa062aea550>]"
      ]
     },
     "execution_count": 43,
     "metadata": {},
     "output_type": "execute_result"
    },
    {
     "data": {
      "image/png": "[encoded data removed]",
      "text/plain": [
       "<Figure size 640x480 with 1 Axes>"
      ]
     },
     "metadata": {},
     "output_type": "display_data"
    }
   ],
   "source": [
    "plt.plot(x, x+4)"
   ]
  },
  {
   "cell_type": "code",
   "execution_count": 44,
   "metadata": {},
   "outputs": [],
   "source": [
    "# Define first model\n",
    "model1 = tf.keras.Sequential()"
   ]
  },
  {
   "cell_type": "code",
   "execution_count": 45,
   "metadata": {},
   "outputs": [],
   "source": [
    "# Define laters\n",
    "# Layer 1\n",
    "layer1= tf.keras.layers.Dense(1, input_shape=(1, ))\n",
    "\n",
    "#add layers to model\n",
    "model1.add(layer1)\n"
   ]
  },
  {
   "cell_type": "code",
   "execution_count": 46,
   "metadata": {},
   "outputs": [
    {
     "name": "stdout",
     "output_type": "stream",
     "text": [
      "Model: \"sequential\"\n",
      "_________________________________________________________________\n",
      " Layer (type)                Output Shape              Param #   \n",
      "=================================================================\n",
      " dense (Dense)               (None, 1)                 2         \n",
      "                                                                 \n",
      "=================================================================\n",
      "Total params: 2 (8.00 Byte)\n",
      "Trainable params: 2 (8.00 Byte)\n",
      "Non-trainable params: 0 (0.00 Byte)\n",
      "_________________________________________________________________\n"
     ]
    }
   ],
   "source": [
    "model1.summary()"
   ]
  },
  {
   "cell_type": "code",
   "execution_count": 47,
   "metadata": {},
   "outputs": [
    {
     "name": "stdout",
     "output_type": "stream",
     "text": [
      "Requirement already satisfied: pydot in /opt/conda/lib/python3.11/site-packages (1.4.2)\n",
      "Requirement already satisfied: pyparsing>=2.1.4 in /opt/conda/lib/python3.11/site-packages (from pydot) (3.1.1)\n",
      "Note: you may need to restart the kernel to use updated packages.\n"
     ]
    }
   ],
   "source": [
    "pip install pydot"
   ]
  },
  {
   "cell_type": "code",
   "execution_count": 48,
   "metadata": {},
   "outputs": [
    {
     "name": "stdout",
     "output_type": "stream",
     "text": [
      "Requirement already satisfied: graphviz in /opt/conda/lib/python3.11/site-packages (0.20.1)\n",
      "Note: you may need to restart the kernel to use updated packages.\n"
     ]
    }
   ],
   "source": [
    "pip install graphviz"
   ]
  },
  {
   "cell_type": "code",
   "execution_count": 49,
   "metadata": {},
   "outputs": [
    {
     "data": {
      "image/png": "[encoded data removed]",
      "text/plain": [
       "<IPython.core.display.Image object>"
      ]
     },
     "execution_count": 49,
     "metadata": {},
     "output_type": "execute_result"
    }
   ],
   "source": [
    "tf.keras.utils.plot_model(model1, show_shapes=True, show_layer_names=True)"
   ]
  },
  {
   "cell_type": "code",
   "execution_count": 50,
   "metadata": {},
   "outputs": [],
   "source": [
    "#!conda install graphviz -y  #standard solution to graphviz not found error caused while running the from previous step"
   ]
  },
  {
   "cell_type": "code",
   "execution_count": 51,
   "metadata": {},
   "outputs": [],
   "source": [
    "#!conda install pydot_ng -y # stack overflow solution previously graphviz -y was still not being found after last command was run"
   ]
  },
  {
   "cell_type": "code",
   "execution_count": 52,
   "metadata": {},
   "outputs": [],
   "source": [
    "#compile model1\n",
    "model1.compile(\n",
    "    optimizer=tf.keras.optimizers.Adam(learning_rate=0.1),\n",
    "    loss='mean_absolute_error')"
   ]
  },
  {
   "cell_type": "code",
   "execution_count": 53,
   "metadata": {},
   "outputs": [
    {
     "name": "stdout",
     "output_type": "stream",
     "text": [
      "Epoch 1/100\n",
      "8/8 [==============================] - 0s 19ms/step - loss: 80.6054 - val_loss: 20.6636\n",
      "Epoch 2/100\n",
      "8/8 [==============================] - 0s 5ms/step - loss: 21.4972 - val_loss: 33.4979\n",
      "Epoch 3/100\n",
      "8/8 [==============================] - 0s 7ms/step - loss: 21.4468 - val_loss: 10.0009\n",
      "Epoch 4/100\n",
      "8/8 [==============================] - 0s 6ms/step - loss: 15.9964 - val_loss: 10.4554\n",
      "Epoch 5/100\n",
      "8/8 [==============================] - 0s 10ms/step - loss: 11.7411 - val_loss: 17.6353\n",
      "Epoch 6/100\n",
      "8/8 [==============================] - 0s 6ms/step - loss: 10.9987 - val_loss: 9.9068\n",
      "Epoch 7/100\n",
      "8/8 [==============================] - 0s 5ms/step - loss: 11.6621 - val_loss: 11.0967\n",
      "Epoch 8/100\n",
      "8/8 [==============================] - 0s 6ms/step - loss: 11.0071 - val_loss: 13.2981\n",
      "Epoch 9/100\n",
      "8/8 [==============================] - 0s 5ms/step - loss: 10.8412 - val_loss: 10.5194\n",
      "Epoch 10/100\n",
      "8/8 [==============================] - 0s 5ms/step - loss: 10.6367 - val_loss: 11.1013\n",
      "Epoch 11/100\n",
      "8/8 [==============================] - 0s 6ms/step - loss: 10.4412 - val_loss: 12.4194\n",
      "Epoch 12/100\n",
      "8/8 [==============================] - 0s 5ms/step - loss: 10.5268 - val_loss: 10.5701\n",
      "Epoch 13/100\n",
      "8/8 [==============================] - 0s 5ms/step - loss: 10.2210 - val_loss: 11.5984\n",
      "Epoch 14/100\n",
      "8/8 [==============================] - 0s 6ms/step - loss: 10.0820 - val_loss: 10.3941\n",
      "Epoch 15/100\n",
      "8/8 [==============================] - 0s 5ms/step - loss: 10.3178 - val_loss: 10.6002\n",
      "Epoch 16/100\n",
      "8/8 [==============================] - 0s 6ms/step - loss: 9.7735 - val_loss: 11.8352\n",
      "Epoch 17/100\n",
      "8/8 [==============================] - 0s 5ms/step - loss: 9.8166 - val_loss: 9.9540\n",
      "Epoch 18/100\n",
      "8/8 [==============================] - 0s 6ms/step - loss: 9.4878 - val_loss: 11.0144\n",
      "Epoch 19/100\n",
      "8/8 [==============================] - 0s 7ms/step - loss: 9.3617 - val_loss: 9.6044\n",
      "Epoch 20/100\n",
      "8/8 [==============================] - 0s 6ms/step - loss: 9.2316 - val_loss: 10.8007\n",
      "Epoch 21/100\n",
      "8/8 [==============================] - 0s 6ms/step - loss: 9.1169 - val_loss: 9.8979\n",
      "Epoch 22/100\n",
      "8/8 [==============================] - 0s 6ms/step - loss: 8.8898 - val_loss: 10.4999\n",
      "Epoch 23/100\n",
      "8/8 [==============================] - 0s 5ms/step - loss: 8.9356 - val_loss: 8.6827\n",
      "Epoch 24/100\n",
      "8/8 [==============================] - 0s 6ms/step - loss: 8.8197 - val_loss: 12.7809\n",
      "Epoch 25/100\n",
      "8/8 [==============================] - 0s 6ms/step - loss: 8.5555 - val_loss: 8.4999\n",
      "Epoch 26/100\n",
      "8/8 [==============================] - 0s 6ms/step - loss: 8.3493 - val_loss: 9.7319\n",
      "Epoch 27/100\n",
      "8/8 [==============================] - 0s 5ms/step - loss: 8.2351 - val_loss: 8.7204\n",
      "Epoch 28/100\n",
      "8/8 [==============================] - 0s 11ms/step - loss: 8.0085 - val_loss: 10.4208\n",
      "Epoch 29/100\n",
      "8/8 [==============================] - 0s 5ms/step - loss: 7.7851 - val_loss: 8.4828\n",
      "Epoch 30/100\n",
      "8/8 [==============================] - 0s 5ms/step - loss: 7.6425 - val_loss: 10.3454\n",
      "Epoch 31/100\n",
      "8/8 [==============================] - 0s 6ms/step - loss: 7.5105 - val_loss: 8.4136\n",
      "Epoch 32/100\n",
      "8/8 [==============================] - 0s 5ms/step - loss: 7.4817 - val_loss: 10.0733\n",
      "Epoch 33/100\n",
      "8/8 [==============================] - 0s 5ms/step - loss: 7.1556 - val_loss: 7.6290\n",
      "Epoch 34/100\n",
      "8/8 [==============================] - 0s 6ms/step - loss: 7.1799 - val_loss: 7.7702\n",
      "Epoch 35/100\n",
      "8/8 [==============================] - 0s 5ms/step - loss: 6.9754 - val_loss: 7.8370\n",
      "Epoch 36/100\n",
      "8/8 [==============================] - 0s 5ms/step - loss: 7.0687 - val_loss: 10.7458\n",
      "Epoch 37/100\n",
      "8/8 [==============================] - 0s 5ms/step - loss: 6.7406 - val_loss: 8.0498\n",
      "Epoch 38/100\n",
      "8/8 [==============================] - 0s 5ms/step - loss: 6.4861 - val_loss: 7.6848\n",
      "Epoch 39/100\n",
      "8/8 [==============================] - 0s 6ms/step - loss: 6.3225 - val_loss: 6.5210\n",
      "Epoch 40/100\n",
      "8/8 [==============================] - 0s 5ms/step - loss: 6.6885 - val_loss: 6.6049\n",
      "Epoch 41/100\n",
      "8/8 [==============================] - 0s 6ms/step - loss: 6.3297 - val_loss: 6.3421\n",
      "Epoch 42/100\n",
      "8/8 [==============================] - 0s 6ms/step - loss: 6.2387 - val_loss: 7.1585\n",
      "Epoch 43/100\n",
      "8/8 [==============================] - 0s 5ms/step - loss: 5.7899 - val_loss: 6.7158\n",
      "Epoch 44/100\n",
      "8/8 [==============================] - 0s 6ms/step - loss: 5.5497 - val_loss: 7.8270\n",
      "Epoch 45/100\n",
      "8/8 [==============================] - 0s 7ms/step - loss: 5.5116 - val_loss: 6.8365\n",
      "Epoch 46/100\n",
      "8/8 [==============================] - 0s 5ms/step - loss: 5.4368 - val_loss: 5.9604\n",
      "Epoch 47/100\n",
      "8/8 [==============================] - 0s 7ms/step - loss: 5.5461 - val_loss: 5.8370\n",
      "Epoch 48/100\n",
      "8/8 [==============================] - 0s 6ms/step - loss: 5.3961 - val_loss: 6.5160\n",
      "Epoch 49/100\n",
      "8/8 [==============================] - 0s 6ms/step - loss: 4.8623 - val_loss: 6.3979\n",
      "Epoch 50/100\n",
      "8/8 [==============================] - 0s 5ms/step - loss: 4.7293 - val_loss: 8.0300\n",
      "Epoch 51/100\n",
      "8/8 [==============================] - 0s 6ms/step - loss: 4.8978 - val_loss: 5.4623\n",
      "Epoch 52/100\n",
      "8/8 [==============================] - 0s 6ms/step - loss: 5.1740 - val_loss: 5.4083\n",
      "Epoch 53/100\n",
      "8/8 [==============================] - 0s 11ms/step - loss: 4.9877 - val_loss: 5.7276\n",
      "Epoch 54/100\n",
      "8/8 [==============================] - 0s 6ms/step - loss: 4.3887 - val_loss: 5.4599\n",
      "Epoch 55/100\n",
      "8/8 [==============================] - 0s 6ms/step - loss: 4.4787 - val_loss: 5.8856\n",
      "Epoch 56/100\n",
      "8/8 [==============================] - 0s 6ms/step - loss: 4.2290 - val_loss: 5.8491\n",
      "Epoch 57/100\n",
      "8/8 [==============================] - 0s 6ms/step - loss: 4.2784 - val_loss: 6.0175\n",
      "Epoch 58/100\n",
      "8/8 [==============================] - 0s 6ms/step - loss: 4.1216 - val_loss: 5.0134\n",
      "Epoch 59/100\n",
      "8/8 [==============================] - 0s 6ms/step - loss: 4.4682 - val_loss: 5.4815\n",
      "Epoch 60/100\n",
      "8/8 [==============================] - 0s 6ms/step - loss: 3.9496 - val_loss: 7.3588\n",
      "Epoch 61/100\n",
      "8/8 [==============================] - 0s 6ms/step - loss: 4.1709 - val_loss: 6.7396\n",
      "Epoch 62/100\n",
      "8/8 [==============================] - 0s 6ms/step - loss: 4.0059 - val_loss: 4.8523\n",
      "Epoch 63/100\n",
      "8/8 [==============================] - 0s 9ms/step - loss: 3.8602 - val_loss: 4.9563\n",
      "Epoch 64/100\n",
      "8/8 [==============================] - 0s 6ms/step - loss: 3.9686 - val_loss: 5.1670\n",
      "Epoch 65/100\n",
      "8/8 [==============================] - 0s 6ms/step - loss: 3.7063 - val_loss: 5.4659\n",
      "Epoch 66/100\n",
      "8/8 [==============================] - 0s 6ms/step - loss: 3.7033 - val_loss: 4.6436\n",
      "Epoch 67/100\n",
      "8/8 [==============================] - 0s 6ms/step - loss: 4.0100 - val_loss: 5.1290\n",
      "Epoch 68/100\n",
      "8/8 [==============================] - 0s 6ms/step - loss: 3.8978 - val_loss: 5.5512\n",
      "Epoch 69/100\n",
      "8/8 [==============================] - 0s 5ms/step - loss: 3.5286 - val_loss: 4.5251\n",
      "Epoch 70/100\n",
      "8/8 [==============================] - 0s 5ms/step - loss: 3.7775 - val_loss: 4.5414\n",
      "Epoch 71/100\n",
      "8/8 [==============================] - 0s 5ms/step - loss: 3.4725 - val_loss: 4.6682\n",
      "Epoch 72/100\n",
      "8/8 [==============================] - 0s 5ms/step - loss: 3.6036 - val_loss: 4.3963\n",
      "Epoch 73/100\n",
      "8/8 [==============================] - 0s 5ms/step - loss: 3.6469 - val_loss: 5.1809\n",
      "Epoch 74/100\n",
      "8/8 [==============================] - 0s 5ms/step - loss: 3.4308 - val_loss: 4.7082\n",
      "Epoch 75/100\n",
      "8/8 [==============================] - 0s 5ms/step - loss: 3.3372 - val_loss: 5.2242\n",
      "Epoch 76/100\n",
      "8/8 [==============================] - 0s 6ms/step - loss: 3.8023 - val_loss: 7.1833\n",
      "Epoch 77/100\n",
      "8/8 [==============================] - 0s 5ms/step - loss: 4.2721 - val_loss: 5.8521\n",
      "Epoch 78/100\n",
      "8/8 [==============================] - 0s 5ms/step - loss: 3.5852 - val_loss: 4.3179\n",
      "Epoch 79/100\n",
      "8/8 [==============================] - 0s 7ms/step - loss: 3.2594 - val_loss: 4.4239\n",
      "Epoch 80/100\n",
      "8/8 [==============================] - 0s 5ms/step - loss: 3.5371 - val_loss: 4.8897\n",
      "Epoch 81/100\n",
      "8/8 [==============================] - 0s 5ms/step - loss: 3.2400 - val_loss: 4.8700\n",
      "Epoch 82/100\n",
      "8/8 [==============================] - 0s 5ms/step - loss: 3.3311 - val_loss: 4.6917\n",
      "Epoch 83/100\n",
      "8/8 [==============================] - 0s 5ms/step - loss: 3.2958 - val_loss: 4.1443\n",
      "Epoch 84/100\n",
      "8/8 [==============================] - 0s 8ms/step - loss: 3.5039 - val_loss: 5.5088\n",
      "Epoch 85/100\n",
      "8/8 [==============================] - 0s 6ms/step - loss: 3.4709 - val_loss: 6.5646\n",
      "Epoch 86/100\n",
      "8/8 [==============================] - 0s 6ms/step - loss: 3.5419 - val_loss: 4.6589\n",
      "Epoch 87/100\n",
      "8/8 [==============================] - 0s 6ms/step - loss: 3.3280 - val_loss: 4.2245\n",
      "Epoch 88/100\n",
      "8/8 [==============================] - 0s 5ms/step - loss: 3.4015 - val_loss: 4.0452\n",
      "Epoch 89/100\n",
      "8/8 [==============================] - 0s 5ms/step - loss: 3.4294 - val_loss: 5.4314\n",
      "Epoch 90/100\n",
      "8/8 [==============================] - 0s 5ms/step - loss: 3.3223 - val_loss: 4.4424\n",
      "Epoch 91/100\n",
      "8/8 [==============================] - 0s 5ms/step - loss: 3.1401 - val_loss: 4.2148\n",
      "Epoch 92/100\n",
      "8/8 [==============================] - 0s 5ms/step - loss: 3.4200 - val_loss: 4.1452\n",
      "Epoch 93/100\n",
      "8/8 [==============================] - 0s 5ms/step - loss: 3.4909 - val_loss: 4.0439\n",
      "Epoch 94/100\n",
      "8/8 [==============================] - 0s 5ms/step - loss: 3.2809 - val_loss: 4.0363\n",
      "Epoch 95/100\n",
      "8/8 [==============================] - 0s 5ms/step - loss: 3.7945 - val_loss: 3.9689\n",
      "Epoch 96/100\n",
      "8/8 [==============================] - 0s 5ms/step - loss: 3.2872 - val_loss: 4.4208\n",
      "Epoch 97/100\n",
      "8/8 [==============================] - 0s 7ms/step - loss: 3.4095 - val_loss: 4.1065\n",
      "Epoch 98/100\n",
      "8/8 [==============================] - 0s 4ms/step - loss: 3.4189 - val_loss: 4.4555\n",
      "Epoch 99/100\n",
      "8/8 [==============================] - 0s 5ms/step - loss: 3.2153 - val_loss: 4.1281\n",
      "Epoch 100/100\n",
      "8/8 [==============================] - 0s 5ms/step - loss: 3.3445 - val_loss: 3.9216\n"
     ]
    }
   ],
   "source": [
    "# Train Model1\n",
    "history1 = model1.fit(\n",
    "    training_data['horsepower'],\n",
    "    training_data['mpg'],\n",
    "    epochs = 100,\n",
    "    validation_split = 0.2)"
   ]
  },
  {
   "cell_type": "code",
   "execution_count": 54,
   "metadata": {},
   "outputs": [],
   "source": [
    "# Plot horsepower vs miles per gallon\n",
    "def plot_HPvsMPG(data_hp, data_mpg, pred_hp, pred_mpg):\n",
    "    # Plot real data\n",
    "    plt.scatter(data_hp, data_mpg, label='Data')\n",
    "\n",
    "    # plot perdictions\n",
    "    plt.plot(pred_hp, pred_mpg, color='k', label='Predictions')\n",
    "\n",
    "    # Show legend\n",
    "    plt.xlabel('horsepower')\n",
    "    plt.ylabel('mpg')\n",
    "    plt.legend()"
   ]
  },
  {
   "cell_type": "code",
   "execution_count": 55,
   "metadata": {},
   "outputs": [
    {
     "name": "stdout",
     "output_type": "stream",
     "text": [
      "8/8 [==============================] - 0s 2ms/step\n"
     ]
    }
   ],
   "source": [
    "#Real Data\n",
    "hp1 = training_data['horsepower']\n",
    "mpg1 = training_data['mpg']\n",
    "\n",
    "# predicted values\n",
    "hp2=tf.linspace(0, 250, 251)\n",
    "mpg2 = model1.predict(hp2)"
   ]
  },
  {
   "cell_type": "code",
   "execution_count": 56,
   "metadata": {},
   "outputs": [
    {
     "data": {
      "image/png": "[encoded data removed]",
      "text/plain": [
       "<Figure size 640x480 with 1 Axes>"
      ]
     },
     "metadata": {},
     "output_type": "display_data"
    }
   ],
   "source": [
    "plot_HPvsMPG(hp1, mpg1, hp2, mpg2)"
   ]
  },
  {
   "cell_type": "code",
   "execution_count": null,
   "metadata": {},
   "outputs": [],
   "source": []
  },
  {
   "cell_type": "code",
   "execution_count": 57,
   "metadata": {},
   "outputs": [],
   "source": [
    "# Get final results for model1\n",
    "testing = model1.evaluate(testing_data['horsepower'], testing_data['mpg'], verbose=0)\n",
    "training = pd.DataFrame(history1.history).iloc[99]['loss']\n",
    "results = {}\n",
    "results['Baseline'] = training, testing"
   ]
  },
  {
   "cell_type": "code",
   "execution_count": 58,
   "metadata": {},
   "outputs": [
    {
     "data": {
      "text/html": [
       "<div>\n",
       "<style scoped>\n",
       "    .dataframe tbody tr th:only-of-type {\n",
       "        vertical-align: middle;\n",
       "    }\n",
       "\n",
       "    .dataframe tbody tr th {\n",
       "        vertical-align: top;\n",
       "    }\n",
       "\n",
       "    .dataframe thead th {\n",
       "        text-align: right;\n",
       "    }\n",
       "</style>\n",
       "<table border=\"1\" class=\"dataframe\">\n",
       "  <thead>\n",
       "    <tr style=\"text-align: right;\">\n",
       "      <th></th>\n",
       "      <th>training loss</th>\n",
       "      <th>testing loss</th>\n",
       "    </tr>\n",
       "  </thead>\n",
       "  <tbody>\n",
       "    <tr>\n",
       "      <th>Baseline</th>\n",
       "      <td>3.344464</td>\n",
       "      <td>7.193412</td>\n",
       "    </tr>\n",
       "  </tbody>\n",
       "</table>\n",
       "</div>"
      ],
      "text/plain": [
       "          training loss  testing loss\n",
       "Baseline       3.344464      7.193412"
      ]
     },
     "execution_count": 58,
     "metadata": {},
     "output_type": "execute_result"
    }
   ],
   "source": [
    "pd.DataFrame(results, index = ['training loss', 'testing loss']).T"
   ]
  },
  {
   "cell_type": "markdown",
   "metadata": {},
   "source": [
    "# 5) Improving the Model"
   ]
  },
  {
   "cell_type": "code",
   "execution_count": 59,
   "metadata": {},
   "outputs": [
    {
     "data": {
      "text/html": [
       "<div>\n",
       "<style scoped>\n",
       "    .dataframe tbody tr th:only-of-type {\n",
       "        vertical-align: middle;\n",
       "    }\n",
       "\n",
       "    .dataframe tbody tr th {\n",
       "        vertical-align: top;\n",
       "    }\n",
       "\n",
       "    .dataframe thead th {\n",
       "        text-align: right;\n",
       "    }\n",
       "</style>\n",
       "<table border=\"1\" class=\"dataframe\">\n",
       "  <thead>\n",
       "    <tr style=\"text-align: right;\">\n",
       "      <th></th>\n",
       "      <th>mpg</th>\n",
       "      <th>cylinders</th>\n",
       "      <th>displacement</th>\n",
       "      <th>horsepower</th>\n",
       "      <th>weight</th>\n",
       "      <th>acceleration</th>\n",
       "      <th>year</th>\n",
       "    </tr>\n",
       "  </thead>\n",
       "  <tbody>\n",
       "    <tr>\n",
       "      <th>0</th>\n",
       "      <td>18.0</td>\n",
       "      <td>8</td>\n",
       "      <td>307.0</td>\n",
       "      <td>130</td>\n",
       "      <td>3504</td>\n",
       "      <td>12.0</td>\n",
       "      <td>1970</td>\n",
       "    </tr>\n",
       "    <tr>\n",
       "      <th>1</th>\n",
       "      <td>15.0</td>\n",
       "      <td>8</td>\n",
       "      <td>350.0</td>\n",
       "      <td>165</td>\n",
       "      <td>3693</td>\n",
       "      <td>11.5</td>\n",
       "      <td>1970</td>\n",
       "    </tr>\n",
       "    <tr>\n",
       "      <th>2</th>\n",
       "      <td>18.0</td>\n",
       "      <td>8</td>\n",
       "      <td>318.0</td>\n",
       "      <td>150</td>\n",
       "      <td>3436</td>\n",
       "      <td>11.0</td>\n",
       "      <td>1970</td>\n",
       "    </tr>\n",
       "    <tr>\n",
       "      <th>3</th>\n",
       "      <td>16.0</td>\n",
       "      <td>8</td>\n",
       "      <td>304.0</td>\n",
       "      <td>150</td>\n",
       "      <td>3433</td>\n",
       "      <td>12.0</td>\n",
       "      <td>1970</td>\n",
       "    </tr>\n",
       "    <tr>\n",
       "      <th>4</th>\n",
       "      <td>17.0</td>\n",
       "      <td>8</td>\n",
       "      <td>302.0</td>\n",
       "      <td>140</td>\n",
       "      <td>3449</td>\n",
       "      <td>10.5</td>\n",
       "      <td>1970</td>\n",
       "    </tr>\n",
       "  </tbody>\n",
       "</table>\n",
       "</div>"
      ],
      "text/plain": [
       "    mpg  cylinders  displacement  horsepower  weight  acceleration  year\n",
       "0  18.0          8         307.0         130    3504          12.0  1970\n",
       "1  15.0          8         350.0         165    3693          11.5  1970\n",
       "2  18.0          8         318.0         150    3436          11.0  1970\n",
       "3  16.0          8         304.0         150    3433          12.0  1970\n",
       "4  17.0          8         302.0         140    3449          10.5  1970"
      ]
     },
     "execution_count": 59,
     "metadata": {},
     "output_type": "execute_result"
    }
   ],
   "source": [
    "data.head()"
   ]
  },
  {
   "cell_type": "markdown",
   "metadata": {},
   "source": [
    "## Model 2 (with Normalized data)"
   ]
  },
  {
   "cell_type": "code",
   "execution_count": 60,
   "metadata": {},
   "outputs": [],
   "source": [
    "# Define model 2\n",
    "model2 = tf.keras.Sequential()\n",
    "\n",
    "# Define layer 1\n",
    "layer1 = tf.keras.layers.Normalization(input_shape=[1,], axis=None)\n",
    "layer1.adapt(np.array(training_data['horsepower']))\n",
    "\n",
    "# Define layer 2\n",
    "layer2 = tf.keras.layers. Dense(1)\n",
    "\n",
    "# Add layers\n",
    "model2.add(layer1)\n",
    "model2.add(layer2)"
   ]
  },
  {
   "cell_type": "code",
   "execution_count": 61,
   "metadata": {},
   "outputs": [
    {
     "data": {
      "image/png": "[encoded data removed]",
      "text/plain": [
       "<IPython.core.display.Image object>"
      ]
     },
     "execution_count": 61,
     "metadata": {},
     "output_type": "execute_result"
    }
   ],
   "source": [
    "tf.keras.utils.plot_model(model2, show_shapes=True, show_layer_names=True)"
   ]
  },
  {
   "cell_type": "code",
   "execution_count": 62,
   "metadata": {},
   "outputs": [],
   "source": [
    "# Compile model2\n",
    "model2.compile(\n",
    "    optimizer=tf.keras.optimizers.Adam(learning_rate=0.1),\n",
    "    loss='mean_absolute_error')"
   ]
  },
  {
   "cell_type": "code",
   "execution_count": 63,
   "metadata": {},
   "outputs": [],
   "source": [
    "history2 = model2.fit(\n",
    "    training_data['horsepower'],\n",
    "    training_data['mpg'],\n",
    "    epochs = 100,\n",
    "    verbose = 0,\n",
    "    validation_split = 0.2)"
   ]
  },
  {
   "cell_type": "code",
   "execution_count": null,
   "metadata": {},
   "outputs": [],
   "source": []
  },
  {
   "cell_type": "code",
   "execution_count": 74,
   "metadata": {},
   "outputs": [
    {
     "name": "stdout",
     "output_type": "stream",
     "text": [
      "8/8 [==============================] - 0s 3ms/step\n"
     ]
    },
    {
     "data": {
      "image/png": "[encoded data removed]",
      "text/plain": [
       "<Figure size 640x480 with 1 Axes>"
      ]
     },
     "metadata": {},
     "output_type": "display_data"
    }
   ],
   "source": [
    "#Real Data\n",
    "hp1 = training_data['horsepower']\n",
    "mpg1 = training_data['mpg']\n",
    "\n",
    "# predicted values\n",
    "hp2=tf.linspace(0, 250, 251)\n",
    "mpg2 = model2.predict(hp2)\n",
    "plot_HPvsMPG(hp1, mpg1, hp2, mpg2)"
   ]
  },
  {
   "cell_type": "code",
   "execution_count": 65,
   "metadata": {},
   "outputs": [],
   "source": [
    "# Get final results for model1\n",
    "testing = model2.evaluate(testing_data['horsepower'], testing_data['mpg'], verbose=0)\n",
    "training = pd.DataFrame(history2.history).iloc[99]['loss']\n",
    "results['Normalization'] = training, testing"
   ]
  },
  {
   "cell_type": "code",
   "execution_count": 66,
   "metadata": {},
   "outputs": [
    {
     "data": {
      "text/html": [
       "<div>\n",
       "<style scoped>\n",
       "    .dataframe tbody tr th:only-of-type {\n",
       "        vertical-align: middle;\n",
       "    }\n",
       "\n",
       "    .dataframe tbody tr th {\n",
       "        vertical-align: top;\n",
       "    }\n",
       "\n",
       "    .dataframe thead th {\n",
       "        text-align: right;\n",
       "    }\n",
       "</style>\n",
       "<table border=\"1\" class=\"dataframe\">\n",
       "  <thead>\n",
       "    <tr style=\"text-align: right;\">\n",
       "      <th></th>\n",
       "      <th>training loss</th>\n",
       "      <th>testing loss</th>\n",
       "    </tr>\n",
       "  </thead>\n",
       "  <tbody>\n",
       "    <tr>\n",
       "      <th>Baseline</th>\n",
       "      <td>3.344464</td>\n",
       "      <td>7.193412</td>\n",
       "    </tr>\n",
       "    <tr>\n",
       "      <th>Normalization</th>\n",
       "      <td>3.004070</td>\n",
       "      <td>7.853045</td>\n",
       "    </tr>\n",
       "  </tbody>\n",
       "</table>\n",
       "</div>"
      ],
      "text/plain": [
       "               training loss  testing loss\n",
       "Baseline            3.344464      7.193412\n",
       "Normalization       3.004070      7.853045"
      ]
     },
     "execution_count": 66,
     "metadata": {},
     "output_type": "execute_result"
    }
   ],
   "source": [
    "pd.DataFrame(results, index=['training loss', 'testing loss']).T"
   ]
  },
  {
   "cell_type": "markdown",
   "metadata": {},
   "source": [
    "## Model 3 (With proper sampling)"
   ]
  },
  {
   "cell_type": "code",
   "execution_count": 67,
   "metadata": {},
   "outputs": [],
   "source": [
    "# Random sample data\n",
    "training_data = data.sample(frac=.8, random_state=0)\n",
    "testing_data = data.drop(training_data.index)"
   ]
  },
  {
   "cell_type": "code",
   "execution_count": 68,
   "metadata": {},
   "outputs": [
    {
     "data": {
      "text/html": [
       "<div>\n",
       "<style scoped>\n",
       "    .dataframe tbody tr th:only-of-type {\n",
       "        vertical-align: middle;\n",
       "    }\n",
       "\n",
       "    .dataframe tbody tr th {\n",
       "        vertical-align: top;\n",
       "    }\n",
       "\n",
       "    .dataframe thead th {\n",
       "        text-align: right;\n",
       "    }\n",
       "</style>\n",
       "<table border=\"1\" class=\"dataframe\">\n",
       "  <thead>\n",
       "    <tr style=\"text-align: right;\">\n",
       "      <th></th>\n",
       "      <th>mpg</th>\n",
       "      <th>cylinders</th>\n",
       "      <th>displacement</th>\n",
       "      <th>horsepower</th>\n",
       "      <th>weight</th>\n",
       "      <th>acceleration</th>\n",
       "      <th>year</th>\n",
       "    </tr>\n",
       "  </thead>\n",
       "  <tbody>\n",
       "    <tr>\n",
       "      <th>55</th>\n",
       "      <td>27.0</td>\n",
       "      <td>4</td>\n",
       "      <td>97.0</td>\n",
       "      <td>60</td>\n",
       "      <td>1834</td>\n",
       "      <td>19.0</td>\n",
       "      <td>1971</td>\n",
       "    </tr>\n",
       "    <tr>\n",
       "      <th>125</th>\n",
       "      <td>20.0</td>\n",
       "      <td>6</td>\n",
       "      <td>198.0</td>\n",
       "      <td>95</td>\n",
       "      <td>3102</td>\n",
       "      <td>16.5</td>\n",
       "      <td>1974</td>\n",
       "    </tr>\n",
       "    <tr>\n",
       "      <th>356</th>\n",
       "      <td>32.4</td>\n",
       "      <td>4</td>\n",
       "      <td>108.0</td>\n",
       "      <td>75</td>\n",
       "      <td>2350</td>\n",
       "      <td>16.8</td>\n",
       "      <td>1981</td>\n",
       "    </tr>\n",
       "    <tr>\n",
       "      <th>178</th>\n",
       "      <td>23.0</td>\n",
       "      <td>4</td>\n",
       "      <td>120.0</td>\n",
       "      <td>88</td>\n",
       "      <td>2957</td>\n",
       "      <td>17.0</td>\n",
       "      <td>1975</td>\n",
       "    </tr>\n",
       "    <tr>\n",
       "      <th>287</th>\n",
       "      <td>16.5</td>\n",
       "      <td>8</td>\n",
       "      <td>351.0</td>\n",
       "      <td>138</td>\n",
       "      <td>3955</td>\n",
       "      <td>13.2</td>\n",
       "      <td>1979</td>\n",
       "    </tr>\n",
       "  </tbody>\n",
       "</table>\n",
       "</div>"
      ],
      "text/plain": [
       "      mpg  cylinders  displacement  horsepower  weight  acceleration  year\n",
       "55   27.0          4          97.0          60    1834          19.0  1971\n",
       "125  20.0          6         198.0          95    3102          16.5  1974\n",
       "356  32.4          4         108.0          75    2350          16.8  1981\n",
       "178  23.0          4         120.0          88    2957          17.0  1975\n",
       "287  16.5          8         351.0         138    3955          13.2  1979"
      ]
     },
     "execution_count": 68,
     "metadata": {},
     "output_type": "execute_result"
    }
   ],
   "source": [
    "training_data.head()"
   ]
  },
  {
   "cell_type": "code",
   "execution_count": 69,
   "metadata": {},
   "outputs": [
    {
     "data": {
      "text/html": [
       "<div>\n",
       "<style scoped>\n",
       "    .dataframe tbody tr th:only-of-type {\n",
       "        vertical-align: middle;\n",
       "    }\n",
       "\n",
       "    .dataframe tbody tr th {\n",
       "        vertical-align: top;\n",
       "    }\n",
       "\n",
       "    .dataframe thead th {\n",
       "        text-align: right;\n",
       "    }\n",
       "</style>\n",
       "<table border=\"1\" class=\"dataframe\">\n",
       "  <thead>\n",
       "    <tr style=\"text-align: right;\">\n",
       "      <th></th>\n",
       "      <th>mpg</th>\n",
       "      <th>cylinders</th>\n",
       "      <th>displacement</th>\n",
       "      <th>horsepower</th>\n",
       "      <th>weight</th>\n",
       "      <th>acceleration</th>\n",
       "      <th>year</th>\n",
       "    </tr>\n",
       "  </thead>\n",
       "  <tbody>\n",
       "    <tr>\n",
       "      <th>9</th>\n",
       "      <td>15.0</td>\n",
       "      <td>8</td>\n",
       "      <td>390.0</td>\n",
       "      <td>190</td>\n",
       "      <td>3850</td>\n",
       "      <td>8.5</td>\n",
       "      <td>1970</td>\n",
       "    </tr>\n",
       "    <tr>\n",
       "      <th>25</th>\n",
       "      <td>10.0</td>\n",
       "      <td>8</td>\n",
       "      <td>360.0</td>\n",
       "      <td>215</td>\n",
       "      <td>4615</td>\n",
       "      <td>14.0</td>\n",
       "      <td>1970</td>\n",
       "    </tr>\n",
       "    <tr>\n",
       "      <th>28</th>\n",
       "      <td>9.0</td>\n",
       "      <td>8</td>\n",
       "      <td>304.0</td>\n",
       "      <td>193</td>\n",
       "      <td>4732</td>\n",
       "      <td>18.5</td>\n",
       "      <td>1970</td>\n",
       "    </tr>\n",
       "    <tr>\n",
       "      <th>31</th>\n",
       "      <td>25.0</td>\n",
       "      <td>4</td>\n",
       "      <td>113.0</td>\n",
       "      <td>95</td>\n",
       "      <td>2228</td>\n",
       "      <td>14.0</td>\n",
       "      <td>1971</td>\n",
       "    </tr>\n",
       "    <tr>\n",
       "      <th>33</th>\n",
       "      <td>19.0</td>\n",
       "      <td>6</td>\n",
       "      <td>232.0</td>\n",
       "      <td>100</td>\n",
       "      <td>2634</td>\n",
       "      <td>13.0</td>\n",
       "      <td>1971</td>\n",
       "    </tr>\n",
       "  </tbody>\n",
       "</table>\n",
       "</div>"
      ],
      "text/plain": [
       "     mpg  cylinders  displacement  horsepower  weight  acceleration  year\n",
       "9   15.0          8         390.0         190    3850           8.5  1970\n",
       "25  10.0          8         360.0         215    4615          14.0  1970\n",
       "28   9.0          8         304.0         193    4732          18.5  1970\n",
       "31  25.0          4         113.0          95    2228          14.0  1971\n",
       "33  19.0          6         232.0         100    2634          13.0  1971"
      ]
     },
     "execution_count": 69,
     "metadata": {},
     "output_type": "execute_result"
    }
   ],
   "source": [
    "testing_data.head()"
   ]
  },
  {
   "cell_type": "code",
   "execution_count": 70,
   "metadata": {},
   "outputs": [],
   "source": [
    "# Define model 3\n",
    "model3 = tf.keras.Sequential()\n",
    "\n",
    "# Define layer 1\n",
    "layer1 = tf.keras.layers.Normalization(input_shape=[1,], axis=None)\n",
    "layer1.adapt(np.array(training_data['horsepower']))\n",
    "\n",
    "# Define layer 2\n",
    "layer2 = tf.keras.layers. Dense(1)\n",
    "\n",
    "# Add layers\n",
    "model3.add(layer1)\n",
    "model3.add(layer2)"
   ]
  },
  {
   "cell_type": "code",
   "execution_count": 71,
   "metadata": {},
   "outputs": [
    {
     "data": {
      "image/png": "[encoded data removed]",
      "text/plain": [
       "<IPython.core.display.Image object>"
      ]
     },
     "execution_count": 71,
     "metadata": {},
     "output_type": "execute_result"
    }
   ],
   "source": [
    "tf.keras.utils.plot_model(model3, show_shapes=True, show_layer_names=True)"
   ]
  },
  {
   "cell_type": "code",
   "execution_count": 72,
   "metadata": {},
   "outputs": [],
   "source": [
    "# Compile model3\n",
    "model3.compile(\n",
    "    optimizer=tf.keras.optimizers.Adam(learning_rate=0.1),\n",
    "    loss='mean_absolute_error')"
   ]
  },
  {
   "cell_type": "code",
   "execution_count": 73,
   "metadata": {},
   "outputs": [],
   "source": [
    "history3 = model3.fit(\n",
    "    training_data['horsepower'],\n",
    "    training_data['mpg'],\n",
    "    epochs = 100,\n",
    "    verbose = 0,\n",
    "    validation_split = 0.2)"
   ]
  },
  {
   "cell_type": "code",
   "execution_count": 75,
   "metadata": {},
   "outputs": [
    {
     "name": "stdout",
     "output_type": "stream",
     "text": [
      "8/8 [==============================] - 0s 2ms/step\n"
     ]
    },
    {
     "data": {
      "image/png": "[encoded data removed]",
      "text/plain": [
       "<Figure size 640x480 with 1 Axes>"
      ]
     },
     "metadata": {},
     "output_type": "display_data"
    }
   ],
   "source": [
    "#Real Data\n",
    "hp1 = training_data['horsepower']\n",
    "mpg1 = training_data['mpg']\n",
    "\n",
    "# predicted values\n",
    "hp2=tf.linspace(0, 250, 251)\n",
    "mpg2 = model3.predict(hp2)\n",
    "plot_HPvsMPG(hp1, mpg1, hp2, mpg2)"
   ]
  },
  {
   "cell_type": "code",
   "execution_count": 76,
   "metadata": {},
   "outputs": [],
   "source": [
    "# Get final results for model1\n",
    "testing = model3.evaluate(testing_data['horsepower'], testing_data['mpg'], verbose=0)\n",
    "training = pd.DataFrame(history3.history).iloc[99]['loss']\n",
    "results['Sampling'] = training, testing"
   ]
  },
  {
   "cell_type": "code",
   "execution_count": 77,
   "metadata": {},
   "outputs": [
    {
     "data": {
      "text/html": [
       "<div>\n",
       "<style scoped>\n",
       "    .dataframe tbody tr th:only-of-type {\n",
       "        vertical-align: middle;\n",
       "    }\n",
       "\n",
       "    .dataframe tbody tr th {\n",
       "        vertical-align: top;\n",
       "    }\n",
       "\n",
       "    .dataframe thead th {\n",
       "        text-align: right;\n",
       "    }\n",
       "</style>\n",
       "<table border=\"1\" class=\"dataframe\">\n",
       "  <thead>\n",
       "    <tr style=\"text-align: right;\">\n",
       "      <th></th>\n",
       "      <th>training loss</th>\n",
       "      <th>testing loss</th>\n",
       "    </tr>\n",
       "  </thead>\n",
       "  <tbody>\n",
       "    <tr>\n",
       "      <th>Baseline</th>\n",
       "      <td>3.344464</td>\n",
       "      <td>7.193412</td>\n",
       "    </tr>\n",
       "    <tr>\n",
       "      <th>Normalization</th>\n",
       "      <td>3.004070</td>\n",
       "      <td>7.853045</td>\n",
       "    </tr>\n",
       "    <tr>\n",
       "      <th>Sampling</th>\n",
       "      <td>3.772549</td>\n",
       "      <td>4.051310</td>\n",
       "    </tr>\n",
       "  </tbody>\n",
       "</table>\n",
       "</div>"
      ],
      "text/plain": [
       "               training loss  testing loss\n",
       "Baseline            3.344464      7.193412\n",
       "Normalization       3.004070      7.853045\n",
       "Sampling            3.772549      4.051310"
      ]
     },
     "execution_count": 77,
     "metadata": {},
     "output_type": "execute_result"
    }
   ],
   "source": [
    "pd.DataFrame(results, index=['training loss', 'testing loss']).T"
   ]
  },
  {
   "cell_type": "markdown",
   "metadata": {},
   "source": [
    "## Model 4 (using Deep Learning)"
   ]
  },
  {
   "cell_type": "code",
   "execution_count": 104,
   "metadata": {},
   "outputs": [],
   "source": [
    "# Define Model 4\n",
    "model4 = tf.keras.Sequential()\n",
    "\n",
    "#Define Layer 1\n",
    "layer1 =tf.keras.layers.Normalization(input_shape=[1,], axis=None)\n",
    "layer1.adapt(np.array(training_data['horsepower']))\n",
    "\n",
    "# Define layer 2\n",
    "layer2 = tf.keras.layers.Dense(64, activation='relu')\n",
    "\n",
    "#Define layer 3\n",
    "layer3 = tf.keras.layers.Dense(64, activation='relu')\n",
    "\n",
    "#Define layer 4\n",
    "layer4 = tf.keras.layers.Dense(1)\n",
    "\n",
    "# Add layers\n",
    "model4.add(layer1)\n",
    "model4.add(layer2)\n",
    "model4.add(layer3)\n",
    "model4.add(layer4)\n"
   ]
  },
  {
   "cell_type": "code",
   "execution_count": 105,
   "metadata": {},
   "outputs": [],
   "source": [
    "# Compile model4\n",
    "model4.compile(\n",
    "    optimizer=tf.keras.optimizers.Adam(learning_rate=0.001),\n",
    "    loss='mean_absolute_error')"
   ]
  },
  {
   "cell_type": "code",
   "execution_count": 106,
   "metadata": {},
   "outputs": [
    {
     "name": "stdout",
     "output_type": "stream",
     "text": [
      "Model: \"sequential_7\"\n",
      "_________________________________________________________________\n",
      " Layer (type)                Output Shape              Param #   \n",
      "=================================================================\n",
      " normalization_6 (Normaliza  (None, 1)                 3         \n",
      " tion)                                                           \n",
      "                                                                 \n",
      " dense_15 (Dense)            (None, 64)                128       \n",
      "                                                                 \n",
      " dense_16 (Dense)            (None, 64)                4160      \n",
      "                                                                 \n",
      " dense_17 (Dense)            (None, 1)                 65        \n",
      "                                                                 \n",
      "=================================================================\n",
      "Total params: 4356 (17.02 KB)\n",
      "Trainable params: 4353 (17.00 KB)\n",
      "Non-trainable params: 3 (16.00 Byte)\n",
      "_________________________________________________________________\n"
     ]
    }
   ],
   "source": [
    "model4.summary()"
   ]
  },
  {
   "cell_type": "code",
   "execution_count": 82,
   "metadata": {},
   "outputs": [],
   "source": [
    "history4 = model4.fit(\n",
    "    training_data['horsepower'],\n",
    "    training_data['mpg'],\n",
    "    epochs = 100,\n",
    "    verbose = 0,\n",
    "    validation_split = 0.2)"
   ]
  },
  {
   "cell_type": "code",
   "execution_count": null,
   "metadata": {},
   "outputs": [],
   "source": []
  },
  {
   "cell_type": "code",
   "execution_count": 83,
   "metadata": {},
   "outputs": [
    {
     "name": "stdout",
     "output_type": "stream",
     "text": [
      "8/8 [==============================] - 0s 2ms/step\n"
     ]
    },
    {
     "data": {
      "image/png": "[encoded data removed]",
      "text/plain": [
       "<Figure size 640x480 with 1 Axes>"
      ]
     },
     "metadata": {},
     "output_type": "display_data"
    }
   ],
   "source": [
    "#Real Data\n",
    "hp1 = training_data['horsepower']\n",
    "mpg1 = training_data['mpg']\n",
    "\n",
    "# predicted values\n",
    "hp2=tf.linspace(0, 250, 251)\n",
    "mpg2 = model4.predict(hp2)\n",
    "plot_HPvsMPG(hp1, mpg1, hp2, mpg2)"
   ]
  },
  {
   "cell_type": "code",
   "execution_count": 86,
   "metadata": {},
   "outputs": [],
   "source": [
    "# Get final results for model4\n",
    "testing = model4.evaluate(testing_data['horsepower'], testing_data['mpg'], verbose=0)\n",
    "training = pd.DataFrame(history4.history).iloc[99]['loss']\n",
    "results['DeepLearning'] = training, testing"
   ]
  },
  {
   "cell_type": "code",
   "execution_count": 87,
   "metadata": {},
   "outputs": [
    {
     "data": {
      "text/html": [
       "<div>\n",
       "<style scoped>\n",
       "    .dataframe tbody tr th:only-of-type {\n",
       "        vertical-align: middle;\n",
       "    }\n",
       "\n",
       "    .dataframe tbody tr th {\n",
       "        vertical-align: top;\n",
       "    }\n",
       "\n",
       "    .dataframe thead th {\n",
       "        text-align: right;\n",
       "    }\n",
       "</style>\n",
       "<table border=\"1\" class=\"dataframe\">\n",
       "  <thead>\n",
       "    <tr style=\"text-align: right;\">\n",
       "      <th></th>\n",
       "      <th>training loss</th>\n",
       "      <th>testing loss</th>\n",
       "    </tr>\n",
       "  </thead>\n",
       "  <tbody>\n",
       "    <tr>\n",
       "      <th>Baseline</th>\n",
       "      <td>3.344464</td>\n",
       "      <td>7.193412</td>\n",
       "    </tr>\n",
       "    <tr>\n",
       "      <th>Normalization</th>\n",
       "      <td>3.004070</td>\n",
       "      <td>7.853045</td>\n",
       "    </tr>\n",
       "    <tr>\n",
       "      <th>Sampling</th>\n",
       "      <td>3.772549</td>\n",
       "      <td>4.051310</td>\n",
       "    </tr>\n",
       "    <tr>\n",
       "      <th>DeepLearning</th>\n",
       "      <td>3.185426</td>\n",
       "      <td>3.525130</td>\n",
       "    </tr>\n",
       "  </tbody>\n",
       "</table>\n",
       "</div>"
      ],
      "text/plain": [
       "               training loss  testing loss\n",
       "Baseline            3.344464      7.193412\n",
       "Normalization       3.004070      7.853045\n",
       "Sampling            3.772549      4.051310\n",
       "DeepLearning        3.185426      3.525130"
      ]
     },
     "execution_count": 87,
     "metadata": {},
     "output_type": "execute_result"
    }
   ],
   "source": [
    "pd.DataFrame(results, index=['training loss', 'testing loss']).T"
   ]
  },
  {
   "cell_type": "markdown",
   "metadata": {},
   "source": [
    "## Model 5 (Deep Learning with multiple features)"
   ]
  },
  {
   "cell_type": "code",
   "execution_count": 100,
   "metadata": {},
   "outputs": [],
   "source": [
    "# Define training data\n",
    "training_data = data.sample(frac=.8, random_state=0)\n",
    "training_features = training_data.drop(\"mpg\", axis=1)\n",
    "training_labels = training_data['mpg']"
   ]
  },
  {
   "cell_type": "code",
   "execution_count": 101,
   "metadata": {},
   "outputs": [],
   "source": [
    "# Define testing data\n",
    "testing_data = training_data.drop(training_data.index)\n",
    "testing_features = training_data.drop(\"mpg\", axis=1)\n",
    "testing_labels = training_data['mpg']"
   ]
  },
  {
   "cell_type": "code",
   "execution_count": 102,
   "metadata": {},
   "outputs": [
    {
     "data": {
      "text/html": [
       "<div>\n",
       "<style scoped>\n",
       "    .dataframe tbody tr th:only-of-type {\n",
       "        vertical-align: middle;\n",
       "    }\n",
       "\n",
       "    .dataframe tbody tr th {\n",
       "        vertical-align: top;\n",
       "    }\n",
       "\n",
       "    .dataframe thead th {\n",
       "        text-align: right;\n",
       "    }\n",
       "</style>\n",
       "<table border=\"1\" class=\"dataframe\">\n",
       "  <thead>\n",
       "    <tr style=\"text-align: right;\">\n",
       "      <th></th>\n",
       "      <th>mpg</th>\n",
       "      <th>cylinders</th>\n",
       "      <th>displacement</th>\n",
       "      <th>horsepower</th>\n",
       "      <th>weight</th>\n",
       "      <th>acceleration</th>\n",
       "      <th>year</th>\n",
       "    </tr>\n",
       "  </thead>\n",
       "  <tbody>\n",
       "    <tr>\n",
       "      <th>55</th>\n",
       "      <td>27.0</td>\n",
       "      <td>4</td>\n",
       "      <td>97.0</td>\n",
       "      <td>60</td>\n",
       "      <td>1834</td>\n",
       "      <td>19.0</td>\n",
       "      <td>1971</td>\n",
       "    </tr>\n",
       "    <tr>\n",
       "      <th>125</th>\n",
       "      <td>20.0</td>\n",
       "      <td>6</td>\n",
       "      <td>198.0</td>\n",
       "      <td>95</td>\n",
       "      <td>3102</td>\n",
       "      <td>16.5</td>\n",
       "      <td>1974</td>\n",
       "    </tr>\n",
       "    <tr>\n",
       "      <th>356</th>\n",
       "      <td>32.4</td>\n",
       "      <td>4</td>\n",
       "      <td>108.0</td>\n",
       "      <td>75</td>\n",
       "      <td>2350</td>\n",
       "      <td>16.8</td>\n",
       "      <td>1981</td>\n",
       "    </tr>\n",
       "    <tr>\n",
       "      <th>178</th>\n",
       "      <td>23.0</td>\n",
       "      <td>4</td>\n",
       "      <td>120.0</td>\n",
       "      <td>88</td>\n",
       "      <td>2957</td>\n",
       "      <td>17.0</td>\n",
       "      <td>1975</td>\n",
       "    </tr>\n",
       "    <tr>\n",
       "      <th>287</th>\n",
       "      <td>16.5</td>\n",
       "      <td>8</td>\n",
       "      <td>351.0</td>\n",
       "      <td>138</td>\n",
       "      <td>3955</td>\n",
       "      <td>13.2</td>\n",
       "      <td>1979</td>\n",
       "    </tr>\n",
       "    <tr>\n",
       "      <th>...</th>\n",
       "      <td>...</td>\n",
       "      <td>...</td>\n",
       "      <td>...</td>\n",
       "      <td>...</td>\n",
       "      <td>...</td>\n",
       "      <td>...</td>\n",
       "      <td>...</td>\n",
       "    </tr>\n",
       "    <tr>\n",
       "      <th>282</th>\n",
       "      <td>22.3</td>\n",
       "      <td>4</td>\n",
       "      <td>140.0</td>\n",
       "      <td>88</td>\n",
       "      <td>2890</td>\n",
       "      <td>17.3</td>\n",
       "      <td>1979</td>\n",
       "    </tr>\n",
       "    <tr>\n",
       "      <th>230</th>\n",
       "      <td>15.5</td>\n",
       "      <td>8</td>\n",
       "      <td>350.0</td>\n",
       "      <td>170</td>\n",
       "      <td>4165</td>\n",
       "      <td>11.4</td>\n",
       "      <td>1977</td>\n",
       "    </tr>\n",
       "    <tr>\n",
       "      <th>151</th>\n",
       "      <td>31.0</td>\n",
       "      <td>4</td>\n",
       "      <td>79.0</td>\n",
       "      <td>67</td>\n",
       "      <td>2000</td>\n",
       "      <td>16.0</td>\n",
       "      <td>1974</td>\n",
       "    </tr>\n",
       "    <tr>\n",
       "      <th>145</th>\n",
       "      <td>32.0</td>\n",
       "      <td>4</td>\n",
       "      <td>83.0</td>\n",
       "      <td>61</td>\n",
       "      <td>2003</td>\n",
       "      <td>19.0</td>\n",
       "      <td>1974</td>\n",
       "    </tr>\n",
       "    <tr>\n",
       "      <th>183</th>\n",
       "      <td>25.0</td>\n",
       "      <td>4</td>\n",
       "      <td>116.0</td>\n",
       "      <td>81</td>\n",
       "      <td>2220</td>\n",
       "      <td>16.9</td>\n",
       "      <td>1976</td>\n",
       "    </tr>\n",
       "  </tbody>\n",
       "</table>\n",
       "<p>312 rows × 7 columns</p>\n",
       "</div>"
      ],
      "text/plain": [
       "      mpg  cylinders  displacement  horsepower  weight  acceleration  year\n",
       "55   27.0          4          97.0          60    1834          19.0  1971\n",
       "125  20.0          6         198.0          95    3102          16.5  1974\n",
       "356  32.4          4         108.0          75    2350          16.8  1981\n",
       "178  23.0          4         120.0          88    2957          17.0  1975\n",
       "287  16.5          8         351.0         138    3955          13.2  1979\n",
       "..    ...        ...           ...         ...     ...           ...   ...\n",
       "282  22.3          4         140.0          88    2890          17.3  1979\n",
       "230  15.5          8         350.0         170    4165          11.4  1977\n",
       "151  31.0          4          79.0          67    2000          16.0  1974\n",
       "145  32.0          4          83.0          61    2003          19.0  1974\n",
       "183  25.0          4         116.0          81    2220          16.9  1976\n",
       "\n",
       "[312 rows x 7 columns]"
      ]
     },
     "execution_count": 102,
     "metadata": {},
     "output_type": "execute_result"
    }
   ],
   "source": [
    "training_data"
   ]
  },
  {
   "cell_type": "code",
   "execution_count": 103,
   "metadata": {},
   "outputs": [],
   "source": [
    "# Define Model 5\n",
    "model5 = tf.keras.Sequential()\n",
    "\n",
    "#Define Layer 1\n",
    "layer1 =tf.keras.layers.Normalization(axis=-1)\n",
    "layer1.adapt(np.array(training_features))\n",
    "\n",
    "# Define layer 2\n",
    "layer2 = tf.keras.layers.Dense(64, activation='relu')\n",
    "\n",
    "#Define layer 3\n",
    "layer3 = tf.keras.layers.Dense(64, activation='relu')\n",
    "\n",
    "#Define layer 4\n",
    "layer4 = tf.keras.layers.Dense(1)\n",
    "\n",
    "# Add layers\n",
    "model5.add(layer1)\n",
    "model5.add(layer2)\n",
    "model5.add(layer3)\n",
    "model5.add(layer4)\n"
   ]
  },
  {
   "cell_type": "code",
   "execution_count": 111,
   "metadata": {},
   "outputs": [],
   "source": [
    "# Compile model5\n",
    "model5.compile(\n",
    "    optimizer=tf.keras.optimizers.Adam(learning_rate=0.001),\n",
    "    loss='mean_absolute_error')"
   ]
  },
  {
   "cell_type": "code",
   "execution_count": 112,
   "metadata": {},
   "outputs": [
    {
     "name": "stdout",
     "output_type": "stream",
     "text": [
      "Model: \"sequential_6\"\n",
      "_________________________________________________________________\n",
      " Layer (type)                Output Shape              Param #   \n",
      "=================================================================\n",
      " normalization_5 (Normaliza  (None, 6)                 13        \n",
      " tion)                                                           \n",
      "                                                                 \n",
      " dense_12 (Dense)            (None, 64)                448       \n",
      "                                                                 \n",
      " dense_13 (Dense)            (None, 64)                4160      \n",
      "                                                                 \n",
      " dense_14 (Dense)            (None, 1)                 65        \n",
      "                                                                 \n",
      "=================================================================\n",
      "Total params: 4686 (18.31 KB)\n",
      "Trainable params: 4673 (18.25 KB)\n",
      "Non-trainable params: 13 (56.00 Byte)\n",
      "_________________________________________________________________\n"
     ]
    }
   ],
   "source": [
    "model5.summary()"
   ]
  },
  {
   "cell_type": "code",
   "execution_count": 113,
   "metadata": {},
   "outputs": [],
   "source": [
    "history5 = model5.fit(\n",
    "    training_features,\n",
    "    training_labels,\n",
    "    epochs = 100,\n",
    "    verbose = 0,\n",
    "    validation_split = 0.2)"
   ]
  },
  {
   "cell_type": "code",
   "execution_count": 115,
   "metadata": {},
   "outputs": [],
   "source": [
    "# Get final results for model4\n",
    "testing = model5.evaluate(testing_features, testing_labels, verbose=0)\n",
    "training = pd.DataFrame(history5.history).iloc[99]['loss']\n",
    "results['MultipleVariables'] = training, testing"
   ]
  },
  {
   "cell_type": "code",
   "execution_count": 116,
   "metadata": {},
   "outputs": [
    {
     "data": {
      "text/html": [
       "<div>\n",
       "<style scoped>\n",
       "    .dataframe tbody tr th:only-of-type {\n",
       "        vertical-align: middle;\n",
       "    }\n",
       "\n",
       "    .dataframe tbody tr th {\n",
       "        vertical-align: top;\n",
       "    }\n",
       "\n",
       "    .dataframe thead th {\n",
       "        text-align: right;\n",
       "    }\n",
       "</style>\n",
       "<table border=\"1\" class=\"dataframe\">\n",
       "  <thead>\n",
       "    <tr style=\"text-align: right;\">\n",
       "      <th></th>\n",
       "      <th>training loss</th>\n",
       "      <th>testing loss</th>\n",
       "    </tr>\n",
       "  </thead>\n",
       "  <tbody>\n",
       "    <tr>\n",
       "      <th>Baseline</th>\n",
       "      <td>3.344464</td>\n",
       "      <td>7.193412</td>\n",
       "    </tr>\n",
       "    <tr>\n",
       "      <th>Normalization</th>\n",
       "      <td>3.004070</td>\n",
       "      <td>7.853045</td>\n",
       "    </tr>\n",
       "    <tr>\n",
       "      <th>Sampling</th>\n",
       "      <td>3.772549</td>\n",
       "      <td>4.051310</td>\n",
       "    </tr>\n",
       "    <tr>\n",
       "      <th>DeepLearning</th>\n",
       "      <td>3.185426</td>\n",
       "      <td>3.525130</td>\n",
       "    </tr>\n",
       "    <tr>\n",
       "      <th>MultipleVariables</th>\n",
       "      <td>1.782468</td>\n",
       "      <td>1.832155</td>\n",
       "    </tr>\n",
       "  </tbody>\n",
       "</table>\n",
       "</div>"
      ],
      "text/plain": [
       "                   training loss  testing loss\n",
       "Baseline                3.344464      7.193412\n",
       "Normalization           3.004070      7.853045\n",
       "Sampling                3.772549      4.051310\n",
       "DeepLearning            3.185426      3.525130\n",
       "MultipleVariables       1.782468      1.832155"
      ]
     },
     "execution_count": 116,
     "metadata": {},
     "output_type": "execute_result"
    }
   ],
   "source": [
    "pd.DataFrame(results, index=['training loss', 'testing loss']).T"
   ]
  },
  {
   "cell_type": "markdown",
   "metadata": {},
   "source": [
    "# Further Steps"
   ]
  },
  {
   "cell_type": "markdown",
   "metadata": {},
   "source": [
    "# Hyperparameter tuning"
   ]
  },
  {
   "cell_type": "code",
   "execution_count": null,
   "metadata": {},
   "outputs": [],
   "source": [
    "# Number of layers, more nodes, picking optimizers, adjusting learning rate, adjust and test"
   ]
  },
  {
   "cell_type": "markdown",
   "metadata": {},
   "source": [
    "## Save your model\n"
   ]
  },
  {
   "cell_type": "code",
   "execution_count": 117,
   "metadata": {},
   "outputs": [
    {
     "name": "stdout",
     "output_type": "stream",
     "text": [
      "INFO:tensorflow:Assets written to: mpg_model_5/assets\n"
     ]
    },
    {
     "name": "stderr",
     "output_type": "stream",
     "text": [
      "INFO:tensorflow:Assets written to: mpg_model_5/assets\n"
     ]
    }
   ],
   "source": [
    "model5.save('mpg_model_5')"
   ]
  },
  {
   "cell_type": "code",
   "execution_count": null,
   "metadata": {},
   "outputs": [],
   "source": []
  }
 ],
 "metadata": {
  "kernelspec": {
   "display_name": "Python 3 (ipykernel)",
   "language": "python",
   "name": "python3"
  },
  "language_info": {
   "codemirror_mode": {
    "name": "ipython",
    "version": 3
   },
   "file_extension": ".py",
   "mimetype": "text/x-python",
   "name": "python",
   "nbconvert_exporter": "python",
   "pygments_lexer": "ipython3",
   "version": "3.8.10"
  }
 },
 "nbformat": 4,
 "nbformat_minor": 5
}
